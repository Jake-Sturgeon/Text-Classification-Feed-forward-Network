{
 "cells": [
  {
   "cell_type": "markdown",
   "metadata": {},
   "source": [
    "# [COM4513-6513] Assignment 2: Text Classification with a Feedforward Network\n",
    "\n",
    "\n",
    "### Instructor: Nikos Aletras\n",
    "\n",
    "\n",
    "The goal of this assignment is to develop a Feedforward network for text classification. \n",
    "\n",
    "\n",
    "\n",
    "For that purpose, you will implement:\n",
    "\n",
    "- Text processing methods for transforming raw text data into input vectors for your network  (**1 mark**)\n",
    "- A Feedforward network consisting of:\n",
    "    - **One-hot** input layer mapping words into an **Embedding weight matrix** (**1 mark**)\n",
    "    - **One hidden layer** computing the mean embedding vector of all words in input followed by a **ReLU activation function** (**1 mark**)\n",
    "    - **Output layer** with a **softmax** activation. (**1 mark**)\n",
    "- The Stochastic Gradient Descent (SGD) algorithm with **back-propagation** to learn the weights of your Neural network. Your algorithm should:\n",
    "    - Use (and minimise) the **Categorical Cross-entropy loss** function (**1 mark**)\n",
    "    - Perform a **Forward pass** to compute intermediate outputs (**4 marks**)\n",
    "    - Perform a **Backward pass** to compute gradients and update all sets of weights (**4 marks**)\n",
    "    - Implement and use **Dropout** after each hidden layer for regularisation (**2 marks**)\n",
    "- Discuss how did you choose hyperparameters? You can tune the learning rate (hint: choose small values), embedding size {e.g. 50, 300, 500}, the dropout rate {e.g. 0.2, 0.5} and the learning rate. Please use tables or graphs to show training and validation performance for each hyperparam combination  (**2 marks**). \n",
    "- After training the model, plot the learning process (i.e. training and validation loss in each epoch) using a line plot and report accuracy.\n",
    "- Re-train your network by using pre-trained embeddings ([GloVe](https://nlp.stanford.edu/projects/glove/)) trained on large corpora. Instead of randomly initialising the embedding weights matrix, you should initialise it with the pre-trained weights. During training, you should not update them (i.e. weight freezing) and backprop should stop before computing gradients for updating embedding weights. Report results by performing hyperparameter tuning and plotting the learning process. Do you get better performance? (**3 marks**).\n",
    "\n",
    "- **BONUS:** Extend you Feedforward network by adding more hidden layers (e.g. one more). How does it affect the performance? Note: You need to repeat hyperparameter tuning, but the number of combinations grows exponentially. Therefore, you need to choose a subset of all possible combinations (**+2 extra marks**)\n",
    "\n",
    "\n",
    "\n",
    "### Data \n",
    "\n",
    "The data you will use for Task 2 is a subset of the [AG News Corpus](http://groups.di.unipi.it/~gulli/AG_corpus_of_news_articles.html) and you can find it in the `./data_topic` folder in CSV format:\n",
    "\n",
    "- `data_topic/train.csv`: contains 2,400 news articles, 800 for each class to be used for training.\n",
    "- `data_topic/dev.csv`: contains 150 news articles, 50 for each class to be used for hyperparameter selection and monitoring the training process.\n",
    "- `data_topic/test.csv`: contains 900 news articles, 300 for each class to be used for testing.\n",
    "\n",
    "### Pre-trained Embeddings\n",
    "\n",
    "You can download pre-trained GloVe embeddings trained on Common Crawl (840B tokens, 2.2M vocab, cased, 300d vectors, 2.03 GB download) from [here](http://nlp.stanford.edu/data/glove.840B.300d.zip). No need to unzip, the file is large.\n",
    "\n",
    "### Save Memory\n",
    "\n",
    "To save RAM, when you finish each experiment you can delete the weights of your network using `del W` followed by Python's garbage collector `gc.collect()`\n",
    "\n",
    "\n",
    "\n",
    "\n",
    "### Submission Instructions\n",
    "\n",
    "You should submit a Jupyter Notebook file (assignment2.ipynb) and an exported PDF version (you can do it from Jupyter: `File->Download as->PDF via Latex`).\n",
    "\n",
    "You are advised to follow the code structure given in this notebook by completing all given funtions. You can also write any auxilliary/helper functions (and arguments for the functions) that you might need but note that you can provide a full solution without any such functions. Similarly, you can just use only the packages imported below but you are free to use any functionality from the [Python Standard Library](https://docs.python.org/2/library/index.html), NumPy, SciPy and Pandas. You are not allowed to use any third-party library such as Scikit-learn (apart from metric functions already provided), NLTK, Spacy, Keras etc.. You are allowed to re-use your code from Assignment 1.\n",
    "\n",
    "Please make sure to comment your code. You should also mention if you've used Windows to write and test your code. There is no single correct answer on what your accuracy should be, but correct implementations usually achieve F1 of ~75-80% and ~85% without and with using pre-trained embeddings respectively. \n",
    "\n",
    "This assignment will be marked out of 20. It is worth 20\\% of your final grade in the module. If you implement the bonus question you can get up to 2 extra points but your final grade will be capped at 20.\n",
    "\n",
    "The deadline for this assignment is **23:59 on Mon, 18 May 2020** and it needs to be submitted via Blackboard (MOLE). Standard departmental penalties for lateness will be applied. We use a range of strategies to detect [unfair means](https://www.sheffield.ac.uk/ssid/unfair-means/index), including Turnitin which helps detect plagiarism, so make sure you do not plagiarise.\n",
    "\n"
   ]
  },
  {
   "cell_type": "code",
   "execution_count": 250,
   "metadata": {
    "ExecuteTime": {
     "end_time": "2020-04-02T15:00:18.625532Z",
     "start_time": "2020-04-02T15:00:17.377733Z"
    }
   },
   "outputs": [],
   "source": [
    "import pandas as pd\n",
    "import numpy as np\n",
    "from collections import Counter\n",
    "import re\n",
    "import matplotlib.pyplot as plt\n",
    "from sklearn.metrics import accuracy_score, precision_score, recall_score, f1_score\n",
    "import random\n",
    "from time import localtime, strftime\n",
    "from scipy.stats import spearmanr,pearsonr\n",
    "import zipfile\n",
    "import gc\n",
    "\n",
    "# fixing random seed for reproducibility\n",
    "random.seed(123)\n",
    "np.random.seed(123)\n",
    "from datetime import datetime \n",
    "now = datetime.now()"
   ]
  },
  {
   "cell_type": "markdown",
   "metadata": {},
   "source": [
    "## Transform Raw texts into training and development data\n",
    "\n",
    "First, you need to load the training, development and test sets from their corresponding CSV files (tip: you can use Pandas dataframes)."
   ]
  },
  {
   "cell_type": "code",
   "execution_count": 251,
   "metadata": {
    "ExecuteTime": {
     "end_time": "2020-04-02T14:26:39.748484Z",
     "start_time": "2020-04-02T14:26:39.727404Z"
    }
   },
   "outputs": [],
   "source": [
    "data_topic_train = pd.read_csv(\"data_topic/train.csv\", names=[\"Label\", \"Text\"])\n",
    "data_topic_test = pd.read_csv(\"data_topic/test.csv\", names=[\"Label\", \"Text\"])\n",
    "data_topic_dev = pd.read_csv(\"data_topic/dev.csv\", names=[\"Label\", \"Text\"])"
   ]
  },
  {
   "cell_type": "code",
   "execution_count": 252,
   "metadata": {
    "ExecuteTime": {
     "end_time": "2020-04-02T14:26:39.753874Z",
     "start_time": "2020-04-02T14:26:39.749647Z"
    }
   },
   "outputs": [],
   "source": [
    "# Split data into lists and np arrays\n",
    "\n",
    "# TRAINING DATA\n",
    "data_topic_train_data = list(data_topic_train.loc[:,\"Text\"])\n",
    "Y_tr = np.array(data_topic_train.loc[:,\"Label\"])\n",
    "\n",
    "# TEST SET\n",
    "data_topic_test_data = list(data_topic_test.loc[:,\"Text\"])\n",
    "Y_test = np.array(data_topic_test.loc[:,\"Label\"])\n",
    "\n",
    "\n",
    "# VALIDATION SET\n",
    "data_topic_dev_data = list(data_topic_dev.loc[:,\"Text\"])\n",
    "Y_dev = np.array(data_topic_dev.loc[:,\"Label\"])"
   ]
  },
  {
   "cell_type": "markdown",
   "metadata": {},
   "source": [
    "# Create input representations\n",
    "\n",
    "\n",
    "To train your Feedforward network, you first need to obtain input representations given a vocabulary. One-hot encoding requires large memory capacity. Therefore, we will instead represent documents as lists of vocabulary indices (each word corresponds to a vocabulary index). \n",
    "\n",
    "\n",
    "## Text Pre-Processing Pipeline\n",
    "\n",
    "To obtain a vocabulary of words. You should: \n",
    "- tokenise all texts into a list of unigrams (tip: you can re-use the functions from Assignment 1) \n",
    "- remove stop words (using the one provided or one of your preference) \n",
    "- remove unigrams appearing in less than K documents\n",
    "- use the remaining to create a vocabulary of the top-N most frequent unigrams in the entire corpus.\n"
   ]
  },
  {
   "cell_type": "code",
   "execution_count": 253,
   "metadata": {
    "ExecuteTime": {
     "end_time": "2020-04-02T14:26:40.851926Z",
     "start_time": "2020-04-02T14:26:40.847500Z"
    }
   },
   "outputs": [],
   "source": [
    "stop_words = ['a','in','on','at','and','or', \n",
    "              'to', 'the', 'of', 'an', 'by', \n",
    "              'as', 'is', 'was', 'were', 'been', 'be', \n",
    "              'are','for', 'this', 'that', 'these', 'those', 'you', 'i', 'if',\n",
    "             'it', 'he', 'she', 'we', 'they', 'will', 'have', 'has',\n",
    "              'do', 'did', 'can', 'could', 'who', 'which', 'what',\n",
    "              'but', 'not', 'there', 'no', 'does', 'not', 'so', 've', 'their',\n",
    "             'his', 'her', 'they', 'them', 'from', 'with', 'its']\n",
    "\n",
    "\n",
    "\n",
    "# stop_words = [\"monday\",\"tuesday\",\"wednesday\",\"thursday\",\"friday\",\"saturday\",\"sunday\",\"0o\", \"0s\", \"3a\", \"3b\", \"3d\", \"6b\", \"6o\", \"a\", \"a1\", \"a2\", \"a3\", \"a4\", \"ab\", \"able\", \"about\", \"above\", \"abst\", \"ac\", \"accordance\", \"according\", \"accordingly\", \"across\", \"act\", \"actually\", \"ad\", \"added\", \"adj\", \"ae\", \"af\", \"affected\", \"affecting\", \"affects\", \"after\", \"afterwards\", \"ag\", \"again\", \"against\", \"ah\", \"ain\", \"ain't\", \"aj\", \"al\", \"all\", \"allow\", \"allows\", \"almost\", \"alone\", \"along\", \"already\", \"also\", \"although\", \"always\", \"am\", \"among\", \"amongst\", \"amoungst\", \"amount\", \"an\", \"and\", \"announce\", \"another\", \"any\", \"anybody\", \"anyhow\", \"anymore\", \"anyone\", \"anything\", \"anyway\", \"anyways\", \"anywhere\", \"ao\", \"ap\", \"apart\", \"apparently\", \"appear\", \"appreciate\", \"appropriate\", \"approximately\", \"ar\", \"are\", \"aren\", \"arent\", \"aren't\", \"arise\", \"around\", \"as\", \"a's\", \"aside\", \"ask\", \"asking\", \"associated\", \"at\", \"au\", \"auth\", \"av\", \"available\", \"aw\", \"away\", \"awfully\", \"ax\", \"ay\", \"az\", \"b\", \"b1\", \"b2\", \"b3\", \"ba\", \"back\", \"bc\", \"bd\", \"be\", \"became\", \"because\", \"become\", \"becomes\", \"becoming\", \"been\", \"before\", \"beforehand\", \"begin\", \"beginning\", \"beginnings\", \"begins\", \"behind\", \"being\", \"believe\", \"below\", \"beside\", \"besides\", \"best\", \"better\", \"between\", \"beyond\", \"bi\", \"bill\", \"biol\", \"bj\", \"bk\", \"bl\", \"bn\", \"both\", \"bottom\", \"bp\", \"br\", \"brief\", \"briefly\", \"bs\", \"bt\", \"bu\", \"but\", \"bx\", \"by\", \"c\", \"c1\", \"c2\", \"c3\", \"ca\", \"call\", \"came\", \"can\", \"cannot\", \"cant\", \"can't\", \"cause\", \"causes\", \"cc\", \"cd\", \"ce\", \"certain\", \"certainly\", \"cf\", \"cg\", \"ch\", \"changes\", \"ci\", \"cit\", \"cj\", \"cl\", \"clearly\", \"cm\", \"c'mon\", \"cn\", \"co\", \"com\", \"come\", \"comes\", \"con\", \"concerning\", \"consequently\", \"consider\", \"considering\", \"contain\", \"containing\", \"contains\", \"corresponding\", \"could\", \"couldn\", \"couldnt\", \"couldn't\", \"course\", \"cp\", \"cq\", \"cr\", \"cry\", \"cs\", \"c's\", \"ct\", \"cu\", \"currently\", \"cv\", \"cx\", \"cy\", \"cz\", \"d\", \"d2\", \"da\", \"date\", \"dc\", \"dd\", \"de\", \"definitely\", \"describe\", \"described\", \"despite\", \"detail\", \"df\", \"di\", \"did\", \"didn\", \"didn't\", \"different\", \"dj\", \"dk\", \"dl\", \"do\", \"does\", \"doesn\", \"doesn't\", \"doing\", \"don\", \"done\", \"don't\", \"down\", \"downwards\", \"dp\", \"dr\", \"ds\", \"dt\", \"du\", \"due\", \"during\", \"dx\", \"dy\", \"e\", \"e2\", \"e3\", \"ea\", \"each\", \"ec\", \"ed\", \"edu\", \"ee\", \"ef\", \"effect\", \"eg\", \"ei\", \"eight\", \"eighty\", \"either\", \"ej\", \"el\", \"eleven\", \"else\", \"elsewhere\", \"em\", \"empty\", \"en\", \"end\", \"ending\", \"enough\", \"entirely\", \"eo\", \"ep\", \"eq\", \"er\", \"es\", \"especially\", \"est\", \"et\", \"et-al\", \"etc\", \"eu\", \"ev\", \"even\", \"ever\", \"every\", \"everybody\", \"everyone\", \"everything\", \"everywhere\", \"ex\", \"exactly\", \"example\", \"except\", \"ey\", \"f\", \"f2\", \"fa\", \"far\", \"fc\", \"few\", \"ff\", \"fi\", \"fifteen\", \"fifth\", \"fify\", \"fill\", \"find\", \"fire\", \"first\", \"five\", \"fix\", \"fj\", \"fl\", \"fn\", \"fo\", \"followed\", \"following\", \"follows\", \"for\", \"former\", \"formerly\", \"forth\", \"forty\", \"found\", \"four\", \"fr\", \"from\", \"front\", \"fs\", \"ft\", \"fu\", \"full\", \"further\", \"furthermore\", \"fy\", \"g\", \"ga\", \"gave\", \"ge\", \"get\", \"gets\", \"getting\", \"gi\", \"give\", \"given\", \"gives\", \"giving\", \"gj\", \"gl\", \"go\", \"goes\", \"going\", \"gone\", \"got\", \"gotten\", \"gr\", \"greetings\", \"gs\", \"gy\", \"h\", \"h2\", \"h3\", \"had\", \"hadn\", \"hadn't\", \"happens\", \"hardly\", \"has\", \"hasn\", \"hasnt\", \"hasn't\", \"have\", \"haven\", \"haven't\", \"having\", \"he\", \"hed\", \"he'd\", \"he'll\", \"hello\", \"help\", \"hence\", \"her\", \"here\", \"hereafter\", \"hereby\", \"herein\", \"heres\", \"here's\", \"hereupon\", \"hers\", \"herself\", \"hes\", \"he's\", \"hh\", \"hi\", \"hid\", \"him\", \"himself\", \"his\", \"hither\", \"hj\", \"ho\", \"home\", \"hopefully\", \"how\", \"howbeit\", \"however\", \"how's\", \"hr\", \"hs\", \"http\", \"hu\", \"hundred\", \"hy\", \"i\", \"i2\", \"i3\", \"i4\", \"i6\", \"i7\", \"i8\", \"ia\", \"ib\", \"ibid\", \"ic\", \"id\", \"i'd\", \"ie\", \"if\", \"ig\", \"ignored\", \"ih\", \"ii\", \"ij\", \"il\", \"i'll\", \"im\", \"i'm\", \"immediate\", \"immediately\", \"importance\", \"important\", \"in\", \"inasmuch\", \"inc\", \"indeed\", \"index\", \"indicate\", \"indicated\", \"indicates\", \"information\", \"inner\", \"insofar\", \"instead\", \"interest\", \"into\", \"invention\", \"inward\", \"io\", \"ip\", \"iq\", \"ir\", \"is\", \"isn\", \"isn't\", \"it\", \"itd\", \"it'd\", \"it'll\", \"its\", \"it's\", \"itself\", \"iv\", \"i've\", \"ix\", \"iy\", \"iz\", \"j\", \"jj\", \"jr\", \"js\", \"jt\", \"ju\", \"just\", \"k\", \"ke\", \"keep\", \"keeps\", \"kept\", \"kg\", \"kj\", \"km\", \"know\", \"known\", \"knows\", \"ko\", \"l\", \"l2\", \"la\", \"largely\", \"last\", \"lately\", \"later\", \"latter\", \"latterly\", \"lb\", \"lc\", \"le\", \"least\", \"les\", \"less\", \"lest\", \"let\", \"lets\", \"let's\", \"lf\", \"like\", \"liked\", \"likely\", \"line\", \"little\", \"lj\", \"ll\", \"ll\", \"ln\", \"lo\", \"look\", \"looking\", \"looks\", \"los\", \"lr\", \"ls\", \"lt\", \"ltd\", \"m\", \"m2\", \"ma\", \"made\", \"mainly\", \"make\", \"makes\", \"many\", \"may\", \"maybe\", \"me\", \"mean\", \"means\", \"meantime\", \"meanwhile\", \"merely\", \"mg\", \"might\", \"mightn\", \"mightn't\", \"mill\", \"million\", \"mine\", \"miss\", \"ml\", \"mn\", \"mo\", \"more\", \"moreover\", \"most\", \"mostly\", \"move\", \"mr\", \"mrs\", \"ms\", \"mt\", \"mu\", \"much\", \"mug\", \"must\", \"mustn\", \"mustn't\", \"my\", \"myself\", \"n\", \"n2\", \"na\", \"name\", \"namely\", \"nay\", \"nc\", \"nd\", \"ne\", \"near\", \"nearly\", \"necessarily\", \"necessary\", \"need\", \"needn\", \"needn't\", \"needs\", \"neither\", \"never\", \"nevertheless\", \"new\", \"next\", \"ng\", \"ni\", \"nine\", \"ninety\", \"nj\", \"nl\", \"nn\", \"no\", \"nobody\", \"non\", \"none\", \"nonetheless\", \"noone\", \"nor\", \"normally\", \"nos\", \"not\", \"noted\", \"nothing\", \"novel\", \"now\", \"nowhere\", \"nr\", \"ns\", \"nt\", \"ny\", \"o\", \"oa\", \"ob\", \"obtain\", \"obtained\", \"obviously\", \"oc\", \"od\", \"of\", \"off\", \"often\", \"og\", \"oh\", \"oi\", \"oj\", \"ok\", \"okay\", \"ol\", \"old\", \"om\", \"omitted\", \"on\", \"once\", \"one\", \"ones\", \"only\", \"onto\", \"oo\", \"op\", \"oq\", \"or\", \"ord\", \"os\", \"ot\", \"other\", \"others\", \"otherwise\", \"ou\", \"ought\", \"our\", \"ours\", \"ourselves\", \"out\", \"outside\", \"over\", \"overall\", \"ow\", \"owing\", \"own\", \"ox\", \"oz\", \"p\", \"p1\", \"p2\", \"p3\", \"page\", \"pagecount\", \"pages\", \"par\", \"part\", \"particular\", \"particularly\", \"pas\", \"past\", \"pc\", \"pd\", \"pe\", \"per\", \"perhaps\", \"pf\", \"ph\", \"pi\", \"pj\", \"pk\", \"pl\", \"placed\", \"please\", \"plus\", \"pm\", \"pn\", \"po\", \"poorly\", \"possible\", \"possibly\", \"potentially\", \"pp\", \"pq\", \"pr\", \"predominantly\", \"present\", \"presumably\", \"previously\", \"primarily\", \"probably\", \"promptly\", \"proud\", \"provides\", \"ps\", \"pt\", \"pu\", \"put\", \"py\", \"q\", \"qj\", \"qu\", \"que\", \"quickly\", \"quite\", \"qv\", \"r\", \"r2\", \"ra\", \"ran\", \"rather\", \"rc\", \"rd\", \"re\", \"readily\", \"really\", \"reasonably\", \"recent\", \"recently\", \"ref\", \"refs\", \"regarding\", \"regardless\", \"regards\", \"related\", \"relatively\", \"research\", \"research-articl\", \"respectively\", \"resulted\", \"resulting\", \"results\", \"rf\", \"rh\", \"ri\", \"right\", \"rj\", \"rl\", \"rm\", \"rn\", \"ro\", \"rq\", \"rr\", \"rs\", \"rt\", \"ru\", \"run\", \"rv\", \"ry\", \"s\", \"s2\", \"sa\", \"said\", \"same\", \"saw\", \"say\", \"saying\", \"says\", \"sc\", \"sd\", \"se\", \"sec\", \"second\", \"secondly\", \"section\", \"see\", \"seeing\", \"seem\", \"seemed\", \"seeming\", \"seems\", \"seen\", \"self\", \"selves\", \"sensible\", \"sent\", \"serious\", \"seriously\", \"seven\", \"several\", \"sf\", \"shall\", \"shan\", \"shan't\", \"she\", \"shed\", \"she'd\", \"she'll\", \"shes\", \"she's\", \"should\", \"shouldn\", \"shouldn't\", \"should've\", \"show\", \"showed\", \"shown\", \"showns\", \"shows\", \"si\", \"side\", \"significant\", \"significantly\", \"similar\", \"similarly\", \"since\", \"sincere\", \"six\", \"sixty\", \"sj\", \"sl\", \"slightly\", \"sm\", \"sn\", \"so\", \"some\", \"somebody\", \"somehow\", \"someone\", \"somethan\", \"something\", \"sometime\", \"sometimes\", \"somewhat\", \"somewhere\", \"soon\", \"sorry\", \"sp\", \"specifically\", \"specified\", \"specify\", \"specifying\", \"sq\", \"sr\", \"ss\", \"st\", \"still\", \"stop\", \"strongly\", \"sub\", \"substantially\", \"successfully\", \"such\", \"sufficiently\", \"suggest\", \"sup\", \"sure\", \"sy\", \"system\", \"sz\", \"t\", \"t1\", \"t2\", \"t3\", \"take\", \"taken\", \"taking\", \"tb\", \"tc\", \"td\", \"te\", \"tell\", \"ten\", \"tends\", \"tf\", \"th\", \"than\", \"thank\", \"thanks\", \"thanx\", \"that\", \"that'll\", \"thats\", \"that's\", \"that've\", \"the\", \"their\", \"theirs\", \"them\", \"themselves\", \"then\", \"thence\", \"there\", \"thereafter\", \"thereby\", \"thered\", \"therefore\", \"therein\", \"there'll\", \"thereof\", \"therere\", \"theres\", \"there's\", \"thereto\", \"thereupon\", \"there've\", \"these\", \"they\", \"theyd\", \"they'd\", \"they'll\", \"theyre\", \"they're\", \"they've\", \"thickv\", \"thin\", \"think\", \"third\", \"this\", \"thorough\", \"thoroughly\", \"those\", \"thou\", \"though\", \"thoughh\", \"thousand\", \"three\", \"throug\", \"through\", \"throughout\", \"thru\", \"thus\", \"ti\", \"til\", \"tip\", \"tj\", \"tl\", \"tm\", \"tn\", \"to\", \"together\", \"too\", \"took\", \"top\", \"toward\", \"towards\", \"tp\", \"tq\", \"tr\", \"tried\", \"tries\", \"truly\", \"try\", \"trying\", \"ts\", \"t's\", \"tt\", \"tv\", \"twelve\", \"twenty\", \"twice\", \"two\", \"tx\", \"u\", \"u201d\", \"ue\", \"ui\", \"uj\", \"uk\", \"um\", \"un\", \"under\", \"unfortunately\", \"unless\", \"unlike\", \"unlikely\", \"until\", \"unto\", \"uo\", \"up\", \"upon\", \"ups\", \"ur\", \"us\", \"use\", \"used\", \"useful\", \"usefully\", \"usefulness\", \"uses\", \"using\", \"usually\", \"ut\", \"v\", \"va\", \"value\", \"various\", \"vd\", \"ve\", \"ve\", \"very\", \"via\", \"viz\", \"vj\", \"vo\", \"vol\", \"vols\", \"volumtype\", \"vq\", \"vs\", \"vt\", \"vu\", \"w\", \"wa\", \"want\", \"wants\", \"was\", \"wasn\", \"wasnt\", \"wasn't\", \"way\", \"we\", \"wed\", \"we'd\", \"welcome\", \"well\", \"we'll\", \"well-b\", \"went\", \"were\", \"we're\", \"weren\", \"werent\", \"weren't\", \"we've\", \"what\", \"whatever\", \"what'll\", \"whats\", \"what's\", \"when\", \"whence\", \"whenever\", \"when's\", \"where\", \"whereafter\", \"whereas\", \"whereby\", \"wherein\", \"wheres\", \"where's\", \"whereupon\", \"wherever\", \"whether\", \"which\", \"while\", \"whim\", \"whither\", \"who\", \"whod\", \"whoever\", \"whole\", \"who'll\", \"whom\", \"whomever\", \"whos\", \"who's\", \"whose\", \"why\", \"why's\", \"wi\", \"widely\", \"will\", \"willing\", \"wish\", \"with\", \"within\", \"without\", \"wo\", \"won\", \"wonder\", \"wont\", \"won't\", \"words\", \"world\", \"would\", \"wouldn\", \"wouldnt\", \"wouldn't\", \"www\", \"x\", \"x1\", \"x2\", \"x3\", \"xf\", \"xi\", \"xj\", \"xk\", \"xl\", \"xn\", \"xo\", \"xs\", \"xt\", \"xv\", \"xx\", \"y\", \"y2\", \"yes\", \"yet\", \"yj\", \"yl\", \"you\", \"youd\", \"you'd\", \"you'll\", \"your\", \"youre\", \"you're\", \"yours\", \"yourself\", \"yourselves\", \"you've\", \"yr\", \"ys\", \"yt\", \"z\", \"zero\", \"zi\", \"zz\"]\n"
   ]
  },
  {
   "cell_type": "markdown",
   "metadata": {},
   "source": [
    "### Unigram extraction from a document\n",
    "\n",
    "You first need to implement the `extract_ngrams` function. It takes as input:\n",
    "- `x_raw`: a string corresponding to the raw text of a document\n",
    "- `ngram_range`: a tuple of two integers denoting the type of ngrams you want to extract, e.g. (1,2) denotes extracting unigrams and bigrams.\n",
    "- `token_pattern`: a string to be used within a regular expression to extract all tokens. Note that data is already tokenised so you could opt for a simple white space tokenisation.\n",
    "- `stop_words`: a list of stop words\n",
    "- `vocab`: a given vocabulary. It should be used to extract specific features.\n",
    "\n",
    "and returns:\n",
    "\n",
    "- a list of all extracted features.\n"
   ]
  },
  {
   "cell_type": "code",
   "execution_count": 254,
   "metadata": {
    "ExecuteTime": {
     "end_time": "2020-04-02T14:26:41.505459Z",
     "start_time": "2020-04-02T14:26:41.498388Z"
    }
   },
   "outputs": [],
   "source": [
    "\n",
    "# token_pattern was changed to allow ' marks and one letter tokens\n",
    "\n",
    "\n",
    "def extract_ngrams(x_raw, ngram_range=(1,3), token_pattern=r\"\\b[A-Za-z\\'][A-Za-z\\']*\\b\", stop_words=[]):\n",
    "    \n",
    "    # To remove caps so to avoid e.g. This/this being seperate tokens   \n",
    "    x_raw = x_raw.lower()\n",
    "    \n",
    "    # Tokenise document\n",
    "    x_raw = re.findall(token_pattern,  x_raw)\n",
    "    \n",
    "    # filter out stopwords     \n",
    "    tokens = [token for token in x_raw if token not in stop_words]\n",
    "    \n",
    "    # for each n-gram in ngram_range ---> construct a list of all n grams    \n",
    "    sequences = []    \n",
    "    for n in range(ngram_range[0], ngram_range[1] + 1) :   \n",
    "        sequences.extend([tuple(tokens[i:i + n]) for i in range(len(tokens) - n + 1)])\n",
    "        \n",
    "        \n",
    "    return sequences\n",
    "\n"
   ]
  },
  {
   "cell_type": "markdown",
   "metadata": {},
   "source": [
    "### Create a vocabulary of n-grams\n",
    "\n",
    "Then the `get_vocab` function will be used to (1) create a vocabulary of ngrams; (2) count the document frequencies of ngrams; (3) their raw frequency. It takes as input:\n",
    "- `X_raw`: a list of strings each corresponding to the raw text of a document\n",
    "- `ngram_range`: a tuple of two integers denoting the type of ngrams you want to extract, e.g. (1,2) denotes extracting unigrams and bigrams.\n",
    "- `token_pattern`: a string to be used within a regular expression to extract all tokens. Note that data is already tokenised so you could opt for a simple white space tokenisation.\n",
    "- `stop_words`: a list of stop words\n",
    "- `min_df`: keep ngrams with a minimum document frequency.\n",
    "- `keep_topN`: keep top-N more frequent ngrams.\n",
    "\n",
    "and returns:\n",
    "\n",
    "- `vocab`: a set of the n-grams that will be used as features.\n",
    "- `df`: a Counter (or dict) that contains ngrams as keys and their corresponding document frequency as values.\n",
    "- `ngram_counts`: counts of each ngram in vocab\n"
   ]
  },
  {
   "cell_type": "code",
   "execution_count": 255,
   "metadata": {
    "ExecuteTime": {
     "end_time": "2020-04-02T14:26:42.563876Z",
     "start_time": "2020-04-02T14:26:42.557967Z"
    }
   },
   "outputs": [],
   "source": [
    "def get_vocab(X_raw, ngram_range=(1,3), token_pattern=r'\\b[A-Za-z\\'][A-Za-z\\']*\\b', min_df=0, keep_topN=0, stop_words=[]):\n",
    "    \n",
    "    #  init empty values   \n",
    "    df = dict()\n",
    "    vocab = set()\n",
    "    ngram_counts = []\n",
    "\n",
    "    for x in X_raw : \n",
    "        # Get N-Grams for each document        \n",
    "        v = extract_ngrams(x, ngram_range = ngram_range, token_pattern = token_pattern, stop_words = stop_words)\n",
    "        \n",
    "        # Add these ngrams to a list of words         \n",
    "        ngram_counts.extend(v)\n",
    "        \n",
    "        # Remove duplications and add to the df dict accordingly   \n",
    "        v = set(v)\n",
    "        for item in list(v) :\n",
    "            df[item] = df.get(item, 0) + 1\n",
    "        \n",
    "        # add the ngrams to the vocab        \n",
    "        vocab |= v\n",
    "    \n",
    "    # Filter Document frequencies   \n",
    "    df = {k: v for (k, v) in df.items() if v >= min_df}\n",
    "    # Keep only the top N\n",
    "    df = dict(list({k: v for (k, v) in sorted(df.items(), reverse = True, key=lambda x: x[1])}.items())[:keep_topN])\n",
    "    \n",
    "    # remove the filtered ngrams from the vocab\n",
    "#     vocab = vocab.intersection(set(df.keys()))\n",
    "    vocab = set(df.keys())\n",
    "    # count the number of ngrams in the vocab \n",
    "    ngram_counts = [(x, y) for (x, y) in Counter(ngram_counts).items() if x in vocab]\n",
    "    return vocab, df, ngram_counts\n"
   ]
  },
  {
   "cell_type": "markdown",
   "metadata": {},
   "source": [
    "Now you should use `get_vocab` to create your vocabulary and get document and raw frequencies of unigrams:"
   ]
  },
  {
   "cell_type": "code",
   "execution_count": 256,
   "metadata": {
    "ExecuteTime": {
     "end_time": "2020-04-02T14:26:43.577997Z",
     "start_time": "2020-04-02T14:26:43.478950Z"
    }
   },
   "outputs": [
    {
     "name": "stdout",
     "output_type": "stream",
     "text": [
      "9184\n"
     ]
    }
   ],
   "source": [
    "# keeping a large N to try and mitigate the deep and the pre-trained model from underfitting\n",
    "vocab, df, ngram_counts = get_vocab(data_topic_train_data, ngram_range=(1,1), keep_topN=10000, stop_words=stop_words)\n",
    "print(len(vocab))"
   ]
  },
  {
   "cell_type": "markdown",
   "metadata": {},
   "source": [
    "Then, you need to create vocabulary id -> word and id -> word dictionaries for reference:"
   ]
  },
  {
   "cell_type": "code",
   "execution_count": 257,
   "metadata": {
    "ExecuteTime": {
     "end_time": "2020-04-02T14:26:44.069661Z",
     "start_time": "2020-04-02T14:26:44.065058Z"
    }
   },
   "outputs": [],
   "source": [
    "# vocabulary id -> word and word -> id\n",
    "v_id = {i: v for i, v in enumerate(vocab)}\n",
    "w_id = {v: i for i, v in v_id.items()}\n"
   ]
  },
  {
   "cell_type": "code",
   "execution_count": null,
   "metadata": {},
   "outputs": [],
   "source": []
  },
  {
   "cell_type": "markdown",
   "metadata": {},
   "source": [
    "### Convert the list of unigrams  into a list of vocabulary indices"
   ]
  },
  {
   "cell_type": "markdown",
   "metadata": {},
   "source": [
    "Storing actual one-hot vectors into memory for all words in the entire data set is prohibitive. Instead, we will store word indices in the vocabulary and look-up the weight matrix. This is equivalent of doing a dot product between an one-hot vector and the weight matrix. \n",
    "\n",
    "First, represent documents in train, dev and test sets as lists of words in the vocabulary:"
   ]
  },
  {
   "cell_type": "code",
   "execution_count": 258,
   "metadata": {
    "ExecuteTime": {
     "end_time": "2020-04-02T14:26:45.047887Z",
     "start_time": "2020-04-02T14:26:44.920631Z"
    }
   },
   "outputs": [],
   "source": [
    "X_uni_train = [extract_ngrams(x, ngram_range=(1,1), stop_words=stop_words) for x in data_topic_train_data]\n",
    "X_uni_dev = [extract_ngrams(x, ngram_range=(1,1), stop_words=stop_words) for x in data_topic_dev_data]\n",
    "X_uni_test = [extract_ngrams(x, ngram_range=(1,1), stop_words=stop_words) for x in data_topic_test_data]\n"
   ]
  },
  {
   "cell_type": "code",
   "execution_count": 259,
   "metadata": {},
   "outputs": [
    {
     "data": {
      "text/plain": [
       "[('reuters',),\n",
       " ('venezuelans',),\n",
       " ('turned',),\n",
       " ('out',),\n",
       " ('early',),\n",
       " ('large',),\n",
       " ('numbers',),\n",
       " ('sunday',),\n",
       " ('vote',),\n",
       " ('historic',),\n",
       " ('referendum',),\n",
       " ('either',),\n",
       " ('remove',),\n",
       " ('left',),\n",
       " ('wing',),\n",
       " ('president',),\n",
       " ('hugo',),\n",
       " ('chavez',),\n",
       " ('office',),\n",
       " ('give',),\n",
       " ('him',),\n",
       " ('new',),\n",
       " ('mandate',),\n",
       " ('govern',),\n",
       " ('next',),\n",
       " ('two',),\n",
       " ('years',)]"
      ]
     },
     "execution_count": 259,
     "metadata": {},
     "output_type": "execute_result"
    }
   ],
   "source": [
    "X_uni_train[0]"
   ]
  },
  {
   "cell_type": "code",
   "execution_count": 260,
   "metadata": {
    "ExecuteTime": {
     "end_time": "2020-04-02T14:26:45.219580Z",
     "start_time": "2020-04-02T14:26:45.214630Z"
    }
   },
   "outputs": [],
   "source": [
    "# X_uni_tr[0]"
   ]
  },
  {
   "cell_type": "markdown",
   "metadata": {},
   "source": [
    "Then convert them into lists of indices in the vocabulary:"
   ]
  },
  {
   "cell_type": "code",
   "execution_count": 261,
   "metadata": {
    "ExecuteTime": {
     "end_time": "2020-04-02T14:26:45.752658Z",
     "start_time": "2020-04-02T14:26:45.730409Z"
    }
   },
   "outputs": [],
   "source": [
    "X_tr = [[w_id[y] for y in x if y in vocab] for x in X_uni_train]\n",
    "X_dev = [[w_id[y] for y in x if y in vocab] for x in X_uni_dev]\n",
    "X_test = [[w_id[y] for y in x if y in vocab] for x in X_uni_test]"
   ]
  },
  {
   "cell_type": "code",
   "execution_count": 262,
   "metadata": {},
   "outputs": [
    {
     "data": {
      "text/plain": [
       "('reuters',)"
      ]
     },
     "execution_count": 262,
     "metadata": {},
     "output_type": "execute_result"
    }
   ],
   "source": [
    "v_id[X_tr[0][0]]"
   ]
  },
  {
   "cell_type": "code",
   "execution_count": 263,
   "metadata": {
    "ExecuteTime": {
     "end_time": "2020-04-02T14:26:46.203894Z",
     "start_time": "2020-04-02T14:26:46.199850Z"
    }
   },
   "outputs": [
    {
     "data": {
      "text/plain": [
       "[2461,\n",
       " 5013,\n",
       " 5809,\n",
       " 8824,\n",
       " 7670,\n",
       " 4557,\n",
       " 6064,\n",
       " 2309,\n",
       " 3626,\n",
       " 3522,\n",
       " 2802,\n",
       " 6835,\n",
       " 6628,\n",
       " 3859,\n",
       " 1017,\n",
       " 8678,\n",
       " 6128,\n",
       " 6277,\n",
       " 2872,\n",
       " 2797,\n",
       " 2777,\n",
       " 4377,\n",
       " 8549,\n",
       " 1268,\n",
       " 1036,\n",
       " 3135,\n",
       " 2536]"
      ]
     },
     "execution_count": 263,
     "metadata": {},
     "output_type": "execute_result"
    }
   ],
   "source": [
    "X_tr[0]"
   ]
  },
  {
   "cell_type": "markdown",
   "metadata": {},
   "source": [
    "Put the labels `Y` for train, dev and test sets into arrays: "
   ]
  },
  {
   "cell_type": "code",
   "execution_count": null,
   "metadata": {
    "ExecuteTime": {
     "end_time": "2020-04-02T15:03:13.183996Z",
     "start_time": "2020-04-02T15:03:13.077575Z"
    }
   },
   "outputs": [],
   "source": []
  },
  {
   "cell_type": "markdown",
   "metadata": {},
   "source": [
    "# Network Architecture\n",
    "\n",
    "Your network should pass each word index into its corresponding embedding by looking-up on the embedding matrix and then compute the first hidden layer $\\mathbf{h}_1$:\n",
    "\n",
    "$$\\mathbf{h}_1 = \\frac{1}{|x|}\\sum_i W^e_i, i \\in x$$\n",
    "\n",
    "where $|x|$ is the number of words in the document and $W^e$ is an embedding matrix $|V|\\times d$, $|V|$ is the size of the vocabulary and $d$ the embedding size.\n",
    "\n",
    "Then $\\mathbf{h}_1$ should be passed through a ReLU activation function:\n",
    "\n",
    "$$\\mathbf{a}_1 = relu(\\mathbf{h}_1)$$\n",
    "\n",
    "Finally the hidden layer is passed to the output layer:\n",
    "\n",
    "\n",
    "$$\\mathbf{y} = \\text{softmax}(\\mathbf{a}_1W^T) $$ \n",
    "where $W$ is a matrix $d \\times |{\\cal Y}|$, $|{\\cal Y}|$ is the number of classes.\n",
    "\n",
    "During training, $\\mathbf{a}_1$ should be multiplied with a dropout mask vector (elementwise) for regularisation before it is passed to the output layer.\n",
    "\n",
    "You can extend to a deeper architecture by passing a hidden layer to another one:\n",
    "\n",
    "$$\\mathbf{h_i} = \\mathbf{a}_{i-1}W_i^T $$\n",
    "\n",
    "$$\\mathbf{a_i} = relu(\\mathbf{h_i}) $$\n",
    "\n",
    "\n",
    "\n",
    "# Network Training\n",
    "\n",
    "First we need to define the parameters of our network by initiliasing the weight matrices. For that purpose, you should implement the `network_weights` function that takes as input:\n",
    "\n",
    "- `vocab_size`: the size of the vocabulary\n",
    "- `embedding_dim`: the size of the word embeddings\n",
    "- `hidden_dim`: a list of the sizes of any subsequent hidden layers (for the Bonus). Empty if there are no hidden layers between the average embedding and the output layer \n",
    "- `num_clusses`: the number of the classes for the output layer\n",
    "\n",
    "and returns:\n",
    "\n",
    "- `W`: a dictionary mapping from layer index (e.g. 0 for the embedding matrix) to the corresponding weight matrix initialised with small random numbers (hint: use numpy.random.uniform with from -0.1 to 0.1)\n",
    "\n",
    "See the examples below for expected outputs. Make sure that the dimensionality of each weight matrix is compatible with the previous and next weight matrix, otherwise you won't be able to perform forward and backward passes. Consider also using np.float32 precision to save memory."
   ]
  },
  {
   "cell_type": "code",
   "execution_count": 264,
   "metadata": {
    "ExecuteTime": {
     "end_time": "2020-04-02T15:09:10.086665Z",
     "start_time": "2020-04-02T15:09:10.083429Z"
    }
   },
   "outputs": [],
   "source": [
    "def network_weights(vocab_size=1000, embedding_dim=300, \n",
    "                    hidden_dim=[], num_classes=3, init_val = 0.5):\n",
    "    # Init W     \n",
    "    W = {}\n",
    "    \n",
    "    # Init the embedding matrix     \n",
    "    W[0] = np.random.uniform(low=-0.1, high=0.1, size=(vocab_size, embedding_dim)).astype('f')\n",
    "    \n",
    "    # init any hidden layes    \n",
    "    for i, h in enumerate(hidden_dim) :\n",
    "        W[i + 1] = np.random.uniform(low=-0.1, high=0.1, size=(W[i].shape[1], h)).astype('f')\n",
    "    \n",
    "    # Init weights to output layer     \n",
    "    W[len(W)] = np.random.uniform(low=-0.1, high=0.1, size=(W[len(W) - 1].shape[1], num_classes)).astype('f')\n",
    "    \n",
    "    return W\n",
    "    "
   ]
  },
  {
   "cell_type": "code",
   "execution_count": 265,
   "metadata": {},
   "outputs": [
    {
     "name": "stdout",
     "output_type": "stream",
     "text": [
      "W_emb: (5, 10)\n",
      "W_out: (10, 2)\n"
     ]
    }
   ],
   "source": [
    "W = network_weights(vocab_size=5,embedding_dim=10,hidden_dim=[], num_classes=2)\n",
    "print('W_emb:', W[0].shape)\n",
    "print('W_out:', W[1].shape)"
   ]
  },
  {
   "cell_type": "code",
   "execution_count": 266,
   "metadata": {
    "ExecuteTime": {
     "end_time": "2020-04-02T14:26:48.143236Z",
     "start_time": "2020-04-02T14:26:48.139381Z"
    }
   },
   "outputs": [
    {
     "name": "stdout",
     "output_type": "stream",
     "text": [
      "W_emb: (5, 10)\n",
      "W_out: (10, 2)\n"
     ]
    }
   ],
   "source": [
    "W = network_weights(vocab_size=5,embedding_dim=10,hidden_dim=[], num_classes=2)\n",
    "\n",
    "print('W_emb:', W[0].shape)\n",
    "print('W_out:', W[1].shape)"
   ]
  },
  {
   "cell_type": "code",
   "execution_count": 267,
   "metadata": {
    "ExecuteTime": {
     "end_time": "2020-04-02T14:26:48.636732Z",
     "start_time": "2020-04-02T14:26:48.634122Z"
    }
   },
   "outputs": [
    {
     "name": "stdout",
     "output_type": "stream",
     "text": [
      "W_emb: (3, 4)\n",
      "W_h1: (4, 2)\n",
      "W_out: (2, 2)\n",
      "{0: array([[-0.08133466, -0.04062784,  0.08551685,  0.01380075],\n",
      "       [-0.0085176 ,  0.0507052 ,  0.04837243, -0.09028419],\n",
      "       [ 0.04173948,  0.06784867, -0.06681243,  0.05619959]],\n",
      "      dtype=float32), 1: array([[-0.04269268, -0.03870605],\n",
      "       [ 0.03305229, -0.07772157],\n",
      "       [ 0.03297449,  0.07757136],\n",
      "       [ 0.03926225, -0.01193442]], dtype=float32), 2: array([[-0.01235712,  0.05301922],\n",
      "       [ 0.0131284 , -0.08301917]], dtype=float32)}\n"
     ]
    }
   ],
   "source": [
    "W = network_weights(vocab_size=3,embedding_dim=4,hidden_dim=[2], num_classes=2)\n",
    "print('W_emb:', W[0].shape)\n",
    "print('W_h1:', W[1].shape)\n",
    "print('W_out:', W[2].shape)\n",
    "print(W)"
   ]
  },
  {
   "cell_type": "code",
   "execution_count": 268,
   "metadata": {
    "ExecuteTime": {
     "end_time": "2020-04-02T14:26:49.086112Z",
     "start_time": "2020-04-02T14:26:49.082225Z"
    }
   },
   "outputs": [
    {
     "name": "stdout",
     "output_type": "stream",
     "text": [
      "W_emb: (3, 4)\n",
      "W_h1: (4, 2)\n",
      "W_out: (2, 2)\n"
     ]
    }
   ],
   "source": [
    "print('W_emb:', W[0].shape)\n",
    "print('W_h1:', W[1].shape)\n",
    "print('W_out:', W[2].shape)"
   ]
  },
  {
   "cell_type": "code",
   "execution_count": 269,
   "metadata": {
    "ExecuteTime": {
     "end_time": "2020-04-02T14:26:49.535954Z",
     "start_time": "2020-04-02T14:26:49.532018Z"
    }
   },
   "outputs": [
    {
     "data": {
      "text/plain": [
       "array([[-0.08133466, -0.04062784,  0.08551685,  0.01380075],\n",
       "       [-0.0085176 ,  0.0507052 ,  0.04837243, -0.09028419],\n",
       "       [ 0.04173948,  0.06784867, -0.06681243,  0.05619959]],\n",
       "      dtype=float32)"
      ]
     },
     "execution_count": 269,
     "metadata": {},
     "output_type": "execute_result"
    }
   ],
   "source": [
    "W[0]"
   ]
  },
  {
   "cell_type": "markdown",
   "metadata": {
    "ExecuteTime": {
     "end_time": "2020-04-01T10:31:57.970152Z",
     "start_time": "2020-04-01T10:31:57.966123Z"
    }
   },
   "source": [
    "Then you need to develop a `softmax` function (same as in Assignment 1) to be used in the output layer. It takes as input:\n",
    "\n",
    "- `z`: array of real numbers \n",
    "\n",
    "and returns:\n",
    "\n",
    "- `sig`: the softmax of `z`"
   ]
  },
  {
   "cell_type": "code",
   "execution_count": 270,
   "metadata": {
    "ExecuteTime": {
     "end_time": "2020-04-02T14:26:50.504086Z",
     "start_time": "2020-04-02T14:26:50.500686Z"
    }
   },
   "outputs": [],
   "source": [
    "def softmax(z):\n",
    "    # Numerically stable softmax    \n",
    "    z -= np.max(z)\n",
    "    sig = np.exp(z) / np.sum(np.exp(z))\n",
    "    \n",
    "    return sig"
   ]
  },
  {
   "cell_type": "markdown",
   "metadata": {},
   "source": [
    "Now you need to implement the categorical cross entropy loss by slightly modifying the function from Assignment 1 to depend only on the true label `y` and the class probabilities vector `y_preds`:"
   ]
  },
  {
   "cell_type": "code",
   "execution_count": 271,
   "metadata": {
    "ExecuteTime": {
     "end_time": "2020-04-02T14:26:51.360838Z",
     "start_time": "2020-04-02T14:26:51.356935Z"
    }
   },
   "outputs": [],
   "source": [
    "def categorical_loss(y, y_preds):\n",
    "    \n",
    "    # Calculate the loss\n",
    "    loss = -np.log(y_preds[y])\n",
    "\n",
    "    return loss"
   ]
  },
  {
   "cell_type": "code",
   "execution_count": 272,
   "metadata": {},
   "outputs": [
    {
     "name": "stdout",
     "output_type": "stream",
     "text": [
      "y_preds:  [0.01217919 0.27035308 0.24462558 0.02710529 0.44573687]\n",
      "loss: 1.40802648485675\n"
     ]
    }
   ],
   "source": [
    "# example for 5 classes\n",
    "\n",
    "y = 2 #true label\n",
    "y_preds = softmax(np.array([[-2.1,1.,0.9,-1.3,1.5]]))[0]\n",
    "\n",
    "print('y_preds: ',y_preds)\n",
    "print('loss:', categorical_loss(y, y_preds))"
   ]
  },
  {
   "cell_type": "code",
   "execution_count": 273,
   "metadata": {
    "ExecuteTime": {
     "end_time": "2020-04-02T14:26:51.762676Z",
     "start_time": "2020-04-02T14:26:51.758210Z"
    }
   },
   "outputs": [
    {
     "name": "stdout",
     "output_type": "stream",
     "text": [
      "y_preds:  [0.01217919 0.27035308 0.24462558 0.02710529 0.44573687]\n",
      "loss: 1.40802648485675\n"
     ]
    }
   ],
   "source": [
    "# example for 5 classes\n",
    "\n",
    "y = 2 #true label\n",
    "y_preds = softmax(np.array([[-2.1,1.,0.9,-1.3,1.5]]))[0]\n",
    "\n",
    "print('y_preds: ',y_preds)\n",
    "print('loss:', categorical_loss(y, y_preds))"
   ]
  },
  {
   "cell_type": "markdown",
   "metadata": {
    "ExecuteTime": {
     "end_time": "2020-03-31T15:02:56.149535Z",
     "start_time": "2020-03-31T15:02:56.145738Z"
    }
   },
   "source": [
    "Then, implement the `relu` function to introduce non-linearity after each hidden layer of your network (during the forward pass): \n",
    "\n",
    "$$relu(z_i)= max(z_i,0)$$\n",
    "\n",
    "and the `relu_derivative` function to compute its derivative (used in the backward pass):\n",
    "\n",
    "\\begin{equation}\n",
    "  \\text{relu\\_derivative}(z_i)=\\begin{cases}\n",
    "    0, & \\text{if $z_i<=0$}.\\\\\n",
    "    1, & \\text{otherwise}.\n",
    "  \\end{cases}\n",
    "\\end{equation}\n",
    "\n",
    "Note that both functions take as input a vector $z$ \n",
    "\n",
    "Hint use .copy() to avoid in place changes in array z"
   ]
  },
  {
   "cell_type": "code",
   "execution_count": 274,
   "metadata": {
    "ExecuteTime": {
     "end_time": "2020-04-02T14:26:52.665236Z",
     "start_time": "2020-04-02T14:26:52.661519Z"
    }
   },
   "outputs": [],
   "source": [
    "def relu(z):\n",
    "    a = z.copy()\n",
    "    # eq. to max(a, 0)   \n",
    "    return a * (a > 0)\n",
    "\n",
    "def relu_derivative(z):\n",
    "    a = z.copy()\n",
    "    return 1. * (a > 0)\n",
    " "
   ]
  },
  {
   "cell_type": "markdown",
   "metadata": {},
   "source": [
    "During training you should also apply a dropout mask element-wise after the activation function (i.e. vector of ones with a random percentage set to zero). The `dropout_mask` function takes as input:\n",
    "\n",
    "- `size`: the size of the vector that we want to apply dropout\n",
    "- `dropout_rate`: the percentage of elements that will be randomly set to zeros\n",
    "\n",
    "and returns:\n",
    "\n",
    "- `dropout_vec`: a vector with binary values (0 or 1)"
   ]
  },
  {
   "cell_type": "code",
   "execution_count": 275,
   "metadata": {
    "ExecuteTime": {
     "end_time": "2020-04-02T14:26:53.429192Z",
     "start_time": "2020-04-02T14:26:53.425301Z"
    }
   },
   "outputs": [],
   "source": [
    "def dropout_mask(size, dropout_rate):\n",
    "    \n",
    "    # Create a mask of booleans\n",
    "    drop_out = np.random.uniform(low=0, high=1, size=size) > dropout_rate\n",
    "    \n",
    "    # Map True -> 1 and False -> 0  \n",
    "    return drop_out * 1\n",
    "    \n",
    "    "
   ]
  },
  {
   "cell_type": "code",
   "execution_count": 276,
   "metadata": {},
   "outputs": [
    {
     "name": "stdout",
     "output_type": "stream",
     "text": [
      "[1 1 1 1 1 1 1 0 1 1]\n"
     ]
    }
   ],
   "source": [
    "print(dropout_mask(10, 0.2))"
   ]
  },
  {
   "cell_type": "code",
   "execution_count": 277,
   "metadata": {
    "ExecuteTime": {
     "end_time": "2020-04-02T14:26:53.853632Z",
     "start_time": "2020-04-02T14:26:53.849944Z"
    }
   },
   "outputs": [
    {
     "name": "stdout",
     "output_type": "stream",
     "text": [
      "[1 0 0 0 1 1 1 0 1 1]\n",
      "[1 1 0 1 1 1 1 1 1 1]\n"
     ]
    }
   ],
   "source": [
    "print(dropout_mask(10, 0.2))\n",
    "print(dropout_mask(10, 0.2))"
   ]
  },
  {
   "cell_type": "markdown",
   "metadata": {},
   "source": [
    "Now you need to implement the `forward_pass` function that passes the input x through the network up to the output layer for computing the probability for each class using the weight matrices in `W`. The ReLU activation function should be applied on each hidden layer. \n",
    "\n",
    "- `x`: a list of vocabulary indices each corresponding to a word in the document (input)\n",
    "- `W`: a list of weight matrices connecting each part of the network, e.g. for a network with a hidden and an output layer: W[0] is the weight matrix that connects the input to the first hidden layer, W[1] is the weight matrix that connects the hidden layer to the output layer.\n",
    "- `dropout_rate`: the dropout rate that is used to generate a random dropout mask vector applied after each hidden layer for regularisation.\n",
    "\n",
    "and returns:\n",
    "\n",
    "- `out_vals`: a dictionary of output values from each layer: h (the vector before the activation function), a (the resulting vector after passing h from the activation function), its dropout mask vector; and the prediction vector (probability for each class) from the output layer."
   ]
  },
  {
   "cell_type": "code",
   "execution_count": 278,
   "metadata": {
    "ExecuteTime": {
     "end_time": "2020-04-02T14:26:54.761268Z",
     "start_time": "2020-04-02T14:26:54.753402Z"
    }
   },
   "outputs": [],
   "source": [
    "def forward_pass(x, W, dropout_rate=0.2):\n",
    "    \n",
    "    # init list and dicts   \n",
    "    out_vals = {}\n",
    "    z_vecs = []\n",
    "    a_vecs = []\n",
    "    dropout_vecs = []\n",
    "    \n",
    "    # for each layer    \n",
    "    z_k = 0\n",
    "    for i in range(0,len(W) - 1) :\n",
    "        #  if its the embedding layer. Only forward pass the relevant words      \n",
    "        if i == 0:\n",
    "            # sum the weights and normalise by the number of indecies            \n",
    "            for i in x:\n",
    "                z_k += W[0][i].reshape(1,-1)\n",
    "            z_k *= 1/len(x)\n",
    "        else:\n",
    "            z_k = h_prev.dot(W[i])\n",
    "        \n",
    "        # append pre-activated values         \n",
    "        z_vecs.append(z_k)\n",
    "        \n",
    "        # activated values       \n",
    "        h_prev = relu(z_k)\n",
    "        \n",
    "        # Apply dropout     \n",
    "        dropout = dropout_mask(h_prev.shape, dropout_rate)\n",
    "        dropout_vecs.append(dropout)\n",
    "        h_prev *= dropout\n",
    "        \n",
    "        a_vecs.append(h_prev)\n",
    "\n",
    "    #  Output layer   \n",
    "    z_k = h_prev.dot(W[len(W) - 1])\n",
    "    z_vecs.append(z_k)\n",
    "    h_prev = softmax(z_k)\n",
    "    pred = h_prev\n",
    "    \n",
    "    out_vals[\"z\"] = z_vecs\n",
    "    out_vals[\"a\"] = a_vecs\n",
    "    out_vals[\"dropout_vecs\"] = dropout_vecs\n",
    "    out_vals[\"y\"] = pred\n",
    "    \n",
    "    \n",
    "    return out_vals\n",
    "    "
   ]
  },
  {
   "cell_type": "code",
   "execution_count": 279,
   "metadata": {},
   "outputs": [
    {
     "name": "stdout",
     "output_type": "stream",
     "text": [
      "Shape W0 (3, 4)\n",
      "Shape W1 (4, 5)\n",
      "Shape W2 (5, 2)\n",
      "\n"
     ]
    }
   ],
   "source": [
    "W = network_weights(vocab_size=3,embedding_dim=4,hidden_dim=[5], num_classes=2)\n",
    "\n",
    "for i in range(len(W)):\n",
    "    print('Shape W'+str(i), W[i].shape)\n",
    "\n",
    "print()\n",
    "f = forward_pass([2,1], W, dropout_rate=0.5)"
   ]
  },
  {
   "cell_type": "code",
   "execution_count": 280,
   "metadata": {
    "ExecuteTime": {
     "end_time": "2020-04-02T14:26:55.162854Z",
     "start_time": "2020-04-02T14:26:55.156122Z"
    }
   },
   "outputs": [
    {
     "name": "stdout",
     "output_type": "stream",
     "text": [
      "Shape W0 (3, 4)\n",
      "Shape W1 (4, 5)\n",
      "Shape W2 (5, 2)\n",
      "\n",
      "{'z': [array([[ 0.02093661, -0.06007447,  0.0410862 ,  0.03663516]],\n",
      "      dtype=float32), array([[-0.00066798, -0.0036264 ,  0.0001287 , -0.00178897, -0.00294294]],\n",
      "      dtype=float32), array([[-2.853093e-06,  0.000000e+00]], dtype=float32)], 'a': [array([[ 0.02093661, -0.        ,  0.0410862 ,  0.        ]],\n",
      "      dtype=float32), array([[-0.       , -0.       ,  0.0001287, -0.       , -0.       ]],\n",
      "      dtype=float32)], 'dropout_vecs': [array([[1, 1, 1, 0]]), array([[1, 0, 1, 0, 1]])], 'y': array([[0.49999925, 0.5000007 ]], dtype=float32)}\n"
     ]
    }
   ],
   "source": [
    "W = network_weights(vocab_size=3,embedding_dim=4,hidden_dim=[5], num_classes=2)\n",
    "\n",
    "for i in range(len(W)):\n",
    "    print('Shape W'+str(i), W[i].shape)\n",
    "\n",
    "print()\n",
    "print(forward_pass([2,1], W, dropout_rate=0.5))"
   ]
  },
  {
   "cell_type": "markdown",
   "metadata": {},
   "source": [
    "The `backward_pass` function computes the gradients and update the weights for each matrix in the network from the output to the input. It takes as input \n",
    "\n",
    "- `x`: a list of vocabulary indices each corresponding to a word in the document (input)\n",
    "- `y`: the true label\n",
    "- `W`: a list of weight matrices connecting each part of the network, e.g. for a network with a hidden and an output layer: W[0] is the weight matrix that connects the input to the first hidden layer, W[1] is the weight matrix that connects the hidden layer to the output layer.\n",
    "- `out_vals`: a dictionary of output values from a forward pass.\n",
    "- `learning_rate`: the learning rate for updating the weights.\n",
    "- `freeze_emb`: boolean value indicating whether the embedding weights will be updated.\n",
    "\n",
    "and returns:\n",
    "\n",
    "- `W`: the updated weights of the network.\n",
    "\n",
    "Hint: the gradients on the output layer are similar to the multiclass logistic regression."
   ]
  },
  {
   "cell_type": "code",
   "execution_count": 281,
   "metadata": {
    "ExecuteTime": {
     "end_time": "2020-04-02T14:26:56.225630Z",
     "start_time": "2020-04-02T14:26:56.216508Z"
    }
   },
   "outputs": [],
   "source": [
    "def backward_pass(x, y, W, out_vals, lr=0.001, freeze_emb=False):\n",
    "    l = len(W) - 1\n",
    "    \n",
    "    # loss as a one hot vector   \n",
    "#     y_hat = categorical_loss(y, out_vals[\"y\"][0])\n",
    "    y_hot = np.zeros(shape = (W[l].shape[1]))\n",
    "    y_hot[y] = 1\n",
    "    \n",
    "    # output layer \n",
    "    # dJ/dz = dJ/dy * dy/dz\n",
    "    delta = (out_vals[\"y\"] - y_hot).reshape(1,-1)\n",
    "    \n",
    "    # No need to update weights that were not used   \n",
    "    dz_dw = out_vals[\"a\"][l - 1].reshape(1,-1) * out_vals[\"dropout_vecs\"][l - 1].reshape(1,-1)\n",
    "    \n",
    "    # dJ/dw = dJ/dz * dz/dw   \n",
    "    dj_dw = dz_dw.T.dot(delta)\n",
    "    \n",
    "    # Apply gradient * learning to k layer     \n",
    "    W[l] -= lr * dj_dw\n",
    "    \n",
    "    # for each hidden layer \n",
    "    for k in range(1, l)[::-1] :\n",
    "        delta = (delta.dot(W[k + 1].T) * relu_derivative(out_vals[\"z\"][k])).reshape(1,-1) * out_vals[\"dropout_vecs\"][k].reshape(1,-1)\n",
    "        dz_dw = out_vals[\"a\"][k - 1].reshape(1,-1) * out_vals[\"dropout_vecs\"][k - 1].reshape(1,-1)\n",
    "        dj_dw = dz_dw.T.dot(delta)\n",
    "        W[k] -= lr * dj_dw\n",
    "    \n",
    "    # input layers\n",
    "    if not freeze_emb :\n",
    "        delta = (delta.dot(W[1].T) * relu_derivative(out_vals[\"z\"][0])).reshape(1,-1) * out_vals[\"dropout_vecs\"][0].reshape(1,-1)\n",
    "#         for i in x:\n",
    "        W[0][x] -= (lr * delta)\n",
    "\n",
    "    \n",
    "    return W"
   ]
  },
  {
   "cell_type": "code",
   "execution_count": 282,
   "metadata": {},
   "outputs": [
    {
     "name": "stdout",
     "output_type": "stream",
     "text": [
      "[[0 1 0]\n",
      " [0 2 0]\n",
      " [0 3 0]\n",
      " [0 4 0]\n",
      " [0 5 0]]\n"
     ]
    }
   ],
   "source": [
    "arr = np.array([1,2,3,4,5]).reshape(-1,1)\n",
    "hot = np.array([0,1,0]).reshape(-1,1)\n",
    "print(arr.dot(hot.T))"
   ]
  },
  {
   "cell_type": "markdown",
   "metadata": {
    "ExecuteTime": {
     "end_time": "2020-02-15T14:08:59.937442Z",
     "start_time": "2020-02-15T14:08:59.932221Z"
    }
   },
   "source": [
    "Finally you need to modify SGD to support back-propagation by using the `forward_pass` and `backward_pass` functions.\n",
    "\n",
    "The `SGD` function takes as input:\n",
    "\n",
    "- `X_tr`: array of training data (vectors)\n",
    "- `Y_tr`: labels of `X_tr`\n",
    "- `W`: the weights of the network (dictionary)\n",
    "- `X_dev`: array of development (i.e. validation) data (vectors)\n",
    "- `Y_dev`: labels of `X_dev`\n",
    "- `lr`: learning rate\n",
    "- `dropout`: regularisation strength\n",
    "- `epochs`: number of full passes over the training data\n",
    "- `tolerance`: stop training if the difference between the current and previous validation loss is smaller than a threshold\n",
    "- `freeze_emb`: boolean value indicating whether the embedding weights will be updated (to be used by the backward pass function).\n",
    "- `print_progress`: flag for printing the training progress (train/validation loss)\n",
    "\n",
    "\n",
    "and returns:\n",
    "\n",
    "- `weights`: the weights learned\n",
    "- `training_loss_history`: an array with the average losses of the whole training set after each epoch\n",
    "- `validation_loss_history`: an array with the average losses of the whole development set after each epoch"
   ]
  },
  {
   "cell_type": "code",
   "execution_count": 283,
   "metadata": {
    "ExecuteTime": {
     "end_time": "2020-04-02T15:09:19.021428Z",
     "start_time": "2020-04-02T15:09:19.017835Z"
    }
   },
   "outputs": [],
   "source": [
    "def SGD(X_tr, Y_tr, W, X_dev=[], Y_dev=[], lr=0.001, \n",
    "        dropout=0.2, epochs=5, tolerance=0.001, freeze_emb=False, print_progress=True):\n",
    "    validation_loss_history = []\n",
    "    training_loss_history = []\n",
    "    # for each epoch     \n",
    "    for e in range(epochs) :\n",
    "        s = np.arange(0, len(Y_tr))\n",
    "        np.random.shuffle(s)\n",
    "        \n",
    "        # Shuffle the order of the docs        \n",
    "        X_tr = np.array(X_tr)[s]\n",
    "        Y_tr = np.array(Y_tr)[s]\n",
    "        \n",
    "        # For each document in the training data descend in the gradient space         \n",
    "        for i, x in enumerate(X_tr) :    \n",
    "            out_vals = forward_pass(x, W, dropout_rate = dropout)\n",
    "            W = backward_pass(x, Y_tr[i], W, out_vals, lr=lr, freeze_emb=freeze_emb)\n",
    "        \n",
    "        # Calculate validation loss        \n",
    "        error = [forward_pass(x, W, dropout_rate = 0)['y'] for x in X_dev] \n",
    "        val = [categorical_loss(true, error[0]) for true,error in zip(Y_dev, error)]\n",
    "        validation_loss_history.append(np.sum(val)/len(val))\n",
    "        \n",
    "        # Calculate training loss\n",
    "        error = [forward_pass(x, W, dropout_rate = 0)['y'] for x in X_tr] \n",
    "        train = [categorical_loss(true, error[0]) for true,error in zip(Y_tr, error)]\n",
    "        training_loss_history.append(np.sum(train)/len(train))\n",
    "        if print_progress :\n",
    "            print(\"epoch:\", e, \"| traininf loss:\", training_loss_history[e], \"| Validation loss:\", validation_loss_history[e])\n",
    "        \n",
    "        # Stop when the difference between the current and previous validation loss is smaller than a threshold      \n",
    "        if e > 0 and np.abs(validation_loss_history[e - 1] - validation_loss_history[e]) < tolerance :\n",
    "            break\n",
    "            \n",
    "    return W, training_loss_history, validation_loss_history"
   ]
  },
  {
   "cell_type": "markdown",
   "metadata": {
    "ExecuteTime": {
     "end_time": "2020-02-15T14:10:15.772383Z",
     "start_time": "2020-02-15T14:10:15.767855Z"
    }
   },
   "source": [
    "Now you are ready to train and evaluate you neural net. First, you need to define your network using the `network_weights` function followed by SGD with backprop:"
   ]
  },
  {
   "cell_type": "code",
   "execution_count": 284,
   "metadata": {
    "scrolled": true
   },
   "outputs": [
    {
     "name": "stdout",
     "output_type": "stream",
     "text": [
      "0\n",
      "1\n",
      "2\n",
      "3\n",
      "4\n",
      "5\n",
      "6\n",
      "7\n"
     ]
    }
   ],
   "source": [
    "\"\"\"\n",
    "\n",
    "A Naïve form of a grid-search to find good hyperparameters\n",
    "\n",
    "\"\"\"\n",
    "learning_rate = [0.01, 0.001]\n",
    "dropout = [0.1, 0.2]\n",
    "emb = [50, 300]\n",
    "\n",
    "# Save best params in a hash\n",
    "hist = {} \n",
    "i = 0\n",
    "# for each hyperparam evaluate the model\n",
    "for rate in learning_rate :\n",
    "    for drop in dropout :\n",
    "        for em in emb :\n",
    "            W = network_weights(vocab_size=len(vocab), embedding_dim=em, hidden_dim=[], num_classes=3)\n",
    "            W, loss_tr, dev_loss = SGD(X_tr, Y_tr - 1,\n",
    "                                W,\n",
    "                                X_dev=X_dev, \n",
    "                                Y_dev=Y_dev - 1,\n",
    "                                lr=rate, \n",
    "                                dropout=drop,\n",
    "                                freeze_emb=False,\n",
    "                                tolerance=0.001,\n",
    "                                epochs=100,\n",
    "                                print_progress=False)\n",
    "\n",
    "            # Evaluate         \n",
    "            preds_te = [np.argmax(forward_pass(x, W, dropout_rate=0.0)['y']) for x in X_test]\n",
    "            f1 = f1_score(Y_test - 1,preds_te,average='macro')\n",
    "\n",
    "            hist[i] = {\"learning_rate\" : rate, \"Drop\" : drop, \"emb\" : em,\"loss_tr\" : loss_tr,\"dev_loss\" : dev_loss, \"F1\" : f1}\n",
    "            print(i)\n",
    "            i += 1"
   ]
  },
  {
   "cell_type": "code",
   "execution_count": 285,
   "metadata": {},
   "outputs": [
    {
     "data": {
      "image/png": "[encoded data removed]",
      "text/plain": [
       "<Figure size 1080x360 with 1 Axes>"
      ]
     },
     "metadata": {
      "needs_background": "light"
     },
     "output_type": "display_data"
    },
    {
     "data": {
      "image/png": "[encoded data removed]",
      "text/plain": [
       "<Figure size 1080x360 with 1 Axes>"
      ]
     },
     "metadata": {
      "needs_background": "light"
     },
     "output_type": "display_data"
    }
   ],
   "source": [
    "plt.figure(figsize=(15,5))\n",
    "\n",
    "cmap = plt.get_cmap('hsv')\n",
    "colors = [cmap(i) for i in np.linspace(0, 1, 12)]\n",
    "np.random.shuffle(colors)\n",
    "for i in range(len(hist)) : \n",
    "    if hist[i][\"learning_rate\"] == 0.001 :\n",
    "        plt.plot(hist[i][\"loss_tr\"],color = colors[i],label=\"Dropout: \" + str(hist[i][\"Drop\"]) + \"\\nEmbedding Layer Size: \" + str(hist[i][\"emb\"]) )\n",
    "        plt.plot(hist[i][\"dev_loss\"],\"--\",color = colors[i])\n",
    "plt.ylim(0,plt.ylim()[1])\n",
    "plt.ylabel(\"Loss\")\n",
    "plt.xlabel(\"Epochs\")\n",
    "plt.title(\"Validation and Training loss over time with a Learing Rate of 0.001\")\n",
    "plt.legend()\n",
    "\n",
    "plt.show()\n",
    "plt.figure(figsize=(15,5))\n",
    "for i in range(len(hist)) : \n",
    "    if hist[i][\"learning_rate\"] == 0.01 :\n",
    "        plt.plot(hist[i][\"loss_tr\"],color = colors[i],label=\"Dropout: \" + str(hist[i][\"Drop\"]) + \"\\nEmbedding Layer Size: \" + str(hist[i][\"emb\"]))\n",
    "        plt.plot(hist[i][\"dev_loss\"],\"--\",color = colors[i])\n",
    "plt.title(\"Validation and Training loss over time with a Learing Rate of 0.01\")\n",
    "plt.ylim(0,plt.ylim()[1])\n",
    "plt.ylabel(\"Loss\")\n",
    "plt.xlabel(\"Epochs\")\n",
    "plt.legend()\n",
    "\n",
    "plt.show()\n",
    "    \n",
    "    \n"
   ]
  },
  {
   "cell_type": "markdown",
   "metadata": {},
   "source": [
    "Both these graphs are used to compare the affect of the learing rate on learing. \n",
    "\n",
    "When the learing rate set to 0.01, the model terminates a lot faster than if it was set to 0.001. As 0.01 make SGD take larger jumps in the learing process. However, this can lead to unstabe training, which can be seen with greater overfitting compared to a learning rate of 0.001.\n",
    "\n",
    "Secondly, some combination failed to even find a minimum. For example, with a learning rate of 0.001, dropout of 0.1, and an embedding size of 50 "
   ]
  },
  {
   "cell_type": "code",
   "execution_count": 286,
   "metadata": {},
   "outputs": [
    {
     "name": "stdout",
     "output_type": "stream",
     "text": [
      "[300.  50. 300.  50. 300. 300.  50.  50.]\n"
     ]
    },
    {
     "data": {
      "image/png": "[encoded data removed]",
      "text/plain": [
       "<Figure size 432x288 with 2 Axes>"
      ]
     },
     "metadata": {
      "needs_background": "light"
     },
     "output_type": "display_data"
    }
   ],
   "source": [
    "# unpack and sort the values\n",
    "bars = [[x[\"emb\"], x[\"Drop\"], x[\"learning_rate\"], x[\"F1\"]] for x in list(hist.values())]\n",
    "bars = sorted(bars, key=lambda x: x[3])[::-1]\n",
    "\n",
    "from matplotlib import pyplot\n",
    "from mpl_toolkits.mplot3d import Axes3D\n",
    "import matplotlib.colors as mcolors\n",
    "import matplotlib.cm as cm\n",
    "import random\n",
    "\n",
    "fig = pyplot.figure()\n",
    "ax = Axes3D(fig)\n",
    "\n",
    "sequence_containing_x_vals = np.array(bars)[:,0]\n",
    "sequence_containing_y_vals = np.array(bars)[:,1]\n",
    "sequence_containing_z_vals = np.array(bars)[:,2]\n",
    "\n",
    "normalize = mcolors.Normalize(vmin=np.array(bars)[:,3].min(), vmax=np.array(bars)[:,3].max())\n",
    "colormap = cm.jet\n",
    "\n",
    "scatter = ax.scatter(sequence_containing_x_vals, sequence_containing_y_vals, sequence_containing_z_vals, s = 1000*np.array(bars)[:,3], alpha=1, cmap = \"jet\", c = np.array(bars)[:,3])\n",
    "print(np.array(bars)[:,0])\n",
    "\n",
    "# setup the colorbar\n",
    "scalarmappaple = cm.ScalarMappable(norm=normalize, cmap = colormap)\n",
    "scalarmappaple.set_array(np.array(bars)[:,3])\n",
    "plt.colorbar(scalarmappaple, label='F1 Score')\n",
    "\n",
    "for i in bars :\n",
    "    ax.plot([i[0],i[0]],[i[1],i[1]],[0,i[2]], \"k--\")\n",
    "\n",
    "ax.set_title(\"F1-score for each hyperparamer combination\")\n",
    "ax.set_xlabel('Embedding Layer Size')\n",
    "ax.set_xticks(np.array(bars)[:,0])\n",
    "ax.set_ylabel('Drop out (%)')\n",
    "ax.set_yticks(np.array(bars)[:,1])\n",
    "ax.set_zlabel('Learning Rate')\n",
    "ax.set_zticks(np.array(bars)[:,2])\n",
    "pyplot.show()\n",
    "\n"
   ]
  },
  {
   "cell_type": "markdown",
   "metadata": {},
   "source": [
    "This graph is a 3D representation of the hyperparmaters used in the Naïve grid search above. The size and colour of each dot is the F1 score of this point in the 3D space. \n",
    "\n",
    "The figure shows that most of the hyperparams used have little affect on the model. This can be seen by the majority of each dot being the same colour and size. \n",
    "The only hyperamter to have major affect on the model is the embedding size. This suggests that a small embedding size doesn't capture the complexity/relationship between words in the training data."
   ]
  },
  {
   "cell_type": "code",
   "execution_count": 287,
   "metadata": {},
   "outputs": [
    {
     "name": "stdout",
     "output_type": "stream",
     "text": [
      "[300, 0.2, 0.01, 0.8618603136056994]\n"
     ]
    }
   ],
   "source": [
    "best = bars[0]\n",
    "print(best)"
   ]
  },
  {
   "cell_type": "code",
   "execution_count": 288,
   "metadata": {
    "ExecuteTime": {
     "end_time": "2020-04-02T15:09:33.643515Z",
     "start_time": "2020-04-02T15:09:33.640943Z"
    },
    "scrolled": true
   },
   "outputs": [
    {
     "name": "stdout",
     "output_type": "stream",
     "text": [
      "Shape W0 (9184, 300)\n",
      "Shape W1 (300, 3)\n",
      "2400\n",
      "epoch: 0 | traininf loss: 1.0696756998697916 | Validation loss: 1.0800217692057292\n",
      "epoch: 1 | traininf loss: 0.986616719563802 | Validation loss: 1.0254597981770834\n",
      "epoch: 2 | traininf loss: 0.8063135782877604 | Validation loss: 0.8909296671549479\n",
      "epoch: 3 | traininf loss: 0.5957569376627604 | Validation loss: 0.6941747029622396\n",
      "epoch: 4 | traininf loss: 0.43765945434570314 | Validation loss: 0.5256706746419271\n",
      "epoch: 5 | traininf loss: 0.3369677225748698 | Validation loss: 0.4266197204589844\n",
      "epoch: 6 | traininf loss: 0.2694958241780599 | Validation loss: 0.36072367350260415\n",
      "epoch: 7 | traininf loss: 0.21886871337890626 | Validation loss: 0.3290845998128255\n",
      "epoch: 8 | traininf loss: 0.1792676798502604 | Validation loss: 0.30169784545898437\n",
      "epoch: 9 | traininf loss: 0.14833686828613282 | Validation loss: 0.2859285990397135\n",
      "epoch: 10 | traininf loss: 0.12346720377604167 | Validation loss: 0.27537770589192706\n",
      "epoch: 11 | traininf loss: 0.10430237452189127 | Validation loss: 0.26477284749348956\n",
      "epoch: 12 | traininf loss: 0.0883035659790039 | Validation loss: 0.2610350545247396\n",
      "epoch: 13 | traininf loss: 0.07562455495198568 | Validation loss: 0.2573021952311198\n",
      "epoch: 14 | traininf loss: 0.06545117696126303 | Validation loss: 0.25348648071289065\n",
      "epoch: 15 | traininf loss: 0.056616503397623696 | Validation loss: 0.2526823425292969\n"
     ]
    }
   ],
   "source": [
    "W = network_weights(vocab_size=len(vocab), embedding_dim=best[0], hidden_dim=[], num_classes=3)\n",
    "\n",
    "for i in range(len(W)):\n",
    "    print('Shape W'+str(i), W[i].shape)\n",
    "print(len(X_tr))\n",
    "\n",
    "W, loss_tr, dev_loss = SGD(X_tr, Y_tr - 1,\n",
    "                            W,\n",
    "                            X_dev=X_dev, \n",
    "                            Y_dev=Y_dev - 1,\n",
    "                            lr=best[2], \n",
    "                            dropout=best[1],\n",
    "                            freeze_emb=False,\n",
    "                            tolerance=0.001,\n",
    "                            epochs=100)\n"
   ]
  },
  {
   "cell_type": "markdown",
   "metadata": {},
   "source": [
    "Plot the learning process:"
   ]
  },
  {
   "cell_type": "code",
   "execution_count": 289,
   "metadata": {
    "ExecuteTime": {
     "end_time": "2020-04-02T14:27:15.716497Z",
     "start_time": "2020-04-02T14:27:15.612736Z"
    }
   },
   "outputs": [
    {
     "data": {
      "image/png": "[encoded data removed]",
      "text/plain": [
       "<Figure size 432x288 with 1 Axes>"
      ]
     },
     "metadata": {
      "needs_background": "light"
     },
     "output_type": "display_data"
    }
   ],
   "source": [
    "plt.plot(loss_tr, label=\"Training Loss\")\n",
    "plt.plot(dev_loss,label=\"Validation Loss\")\n",
    "plt.legend()\n",
    "plt.title(\"Traing and Validation Loss Over Time\")\n",
    "plt.ylabel(\"Loss\")\n",
    "plt.xlabel(\"Epochs\")\n",
    "plt.show()"
   ]
  },
  {
   "cell_type": "markdown",
   "metadata": {},
   "source": [
    "This graph shows that the model is overfitting."
   ]
  },
  {
   "cell_type": "code",
   "execution_count": 290,
   "metadata": {},
   "outputs": [],
   "source": [
    "def conf(pred, labels) :\n",
    "    N = len(np.unique(labels))\n",
    "    result = np.zeros((N, N))\n",
    "    for i in range(len(Y_test)):\n",
    "        result[labels[i]][pred[i]] += 1\n",
    "    return result"
   ]
  },
  {
   "cell_type": "markdown",
   "metadata": {},
   "source": [
    "Compute accuracy, precision, recall and F1-Score:"
   ]
  },
  {
   "cell_type": "code",
   "execution_count": 291,
   "metadata": {
    "ExecuteTime": {
     "end_time": "2020-04-02T15:10:11.037495Z",
     "start_time": "2020-04-02T15:10:11.034999Z"
    }
   },
   "outputs": [
    {
     "name": "stdout",
     "output_type": "stream",
     "text": [
      "[[252.  25.  23.]\n",
      " [ 17. 279.   4.]\n",
      " [ 45.  12. 243.]]\n",
      "Accuracy: 0.86\n",
      "Precision: 0.8618197210352334\n",
      "Recall: 0.86\n",
      "F1-Score: 0.8597742134429945\n"
     ]
    }
   ],
   "source": [
    "preds_te = [np.argmax(forward_pass(x, W, dropout_rate=0.0)['y']) for x in X_test]\n",
    "print(conf(preds_te,Y_test - 1))\n",
    "print('Accuracy:', accuracy_score(Y_test - 1,preds_te))\n",
    "print('Precision:', precision_score(Y_test - 1,preds_te,average='macro'))\n",
    "print('Recall:', recall_score(Y_test - 1,preds_te,average='macro'))\n",
    "print('F1-Score:', f1_score(Y_test - 1,preds_te,average='macro'))"
   ]
  },
  {
   "cell_type": "markdown",
   "metadata": {},
   "source": [
    "### Discuss how did you choose model hyperparameters ? "
   ]
  },
  {
   "cell_type": "markdown",
   "metadata": {},
   "source": [
    "Due to timing constraints I only chose a small number of values for each hyperparameter. The hyperparameters I chose to test were the learning rate, dropout, and embedding size. I then used a grid search to search all the possible combinations of values to find the set that produced the best f1 score. "
   ]
  },
  {
   "cell_type": "markdown",
   "metadata": {},
   "source": [
    "# Use Pre-trained Embeddings\n",
    "\n",
    "Now re-train the network using GloVe pre-trained embeddings. You need to modify the `backward_pass` function above to stop computing gradients and updating weights of the embedding matrix.\n",
    "\n",
    "Use the function below to obtain the embedding martix for your vocabulary."
   ]
  },
  {
   "cell_type": "code",
   "execution_count": 292,
   "metadata": {
    "ExecuteTime": {
     "end_time": "2020-04-02T14:27:32.020697Z",
     "start_time": "2020-04-02T14:27:32.015733Z"
    }
   },
   "outputs": [],
   "source": [
    "def get_glove_embeddings(f_zip, f_txt, word2id, emb_size=300):\n",
    "    \n",
    "    w_emb = np.zeros((len(word2id), emb_size))\n",
    "    \n",
    "    with zipfile.ZipFile(f_zip) as z:\n",
    "        with z.open(f_txt) as f:\n",
    "            for line in f:\n",
    "                line = line.decode('utf-8')\n",
    "                # Change the keytype to tuple, otherwise a key error occurs      \n",
    "                word = tuple([line.split()[0]])\n",
    "                if word in vocab:\n",
    "                    emb = np.array(line.strip('\\n').split()[1:]).astype(np.float32)\n",
    "                    w_emb[word2id[word]] += emb\n",
    "    return w_emb"
   ]
  },
  {
   "cell_type": "code",
   "execution_count": null,
   "metadata": {},
   "outputs": [],
   "source": []
  },
  {
   "cell_type": "code",
   "execution_count": 293,
   "metadata": {
    "ExecuteTime": {
     "end_time": "2020-04-02T14:28:54.548613Z",
     "start_time": "2020-04-02T14:27:32.780248Z"
    }
   },
   "outputs": [],
   "source": [
    "w_glove = get_glove_embeddings(\"glove.840B.300d.zip\", \"glove.840B.300d.txt\", w_id)"
   ]
  },
  {
   "cell_type": "code",
   "execution_count": 294,
   "metadata": {},
   "outputs": [
    {
     "name": "stdout",
     "output_type": "stream",
     "text": [
      "(9184, 300)\n"
     ]
    }
   ],
   "source": [
    "print(w_glove.shape)"
   ]
  },
  {
   "cell_type": "markdown",
   "metadata": {},
   "source": [
    "First, initialise the weights of your network using the `network_weights` function. Second, replace the weigths of the embedding matrix with `w_glove`. Finally, train the network by freezing the embedding weights: "
   ]
  },
  {
   "cell_type": "code",
   "execution_count": 295,
   "metadata": {
    "ExecuteTime": {
     "end_time": "2020-04-02T14:30:11.121198Z",
     "start_time": "2020-04-02T14:29:24.946124Z"
    }
   },
   "outputs": [
    {
     "name": "stdout",
     "output_type": "stream",
     "text": [
      "0\n",
      "1\n",
      "2\n",
      "3\n"
     ]
    }
   ],
   "source": [
    "learning_rate = [0.01, 0.001]\n",
    "dropout = [0.1, 0.2]\n",
    "\n",
    "# Save best params in a hash\n",
    "hist = {} \n",
    "i = 0\n",
    "# for each hyperparam evaluate the model\n",
    "for rate in learning_rate :\n",
    "    for drop in dropout :\n",
    "        W = network_weights(vocab_size=len(vocab), embedding_dim=300, hidden_dim=[], num_classes=3)\n",
    "        W[0] = w_glove\n",
    "        W, loss_tr, dev_loss = SGD(X_tr, Y_tr - 1,\n",
    "                            W,\n",
    "                            X_dev=X_dev, \n",
    "                            Y_dev=Y_dev - 1,\n",
    "                            lr=rate, \n",
    "                            dropout=drop,\n",
    "                            freeze_emb=True,\n",
    "                            tolerance=0.001,\n",
    "                            epochs=100,\n",
    "                            print_progress=False)\n",
    "\n",
    "        # Evaluate         \n",
    "        preds_te = [np.argmax(forward_pass(x, W, dropout_rate=0.0)['y']) for x in X_test]\n",
    "        f1 = f1_score(Y_test - 1,preds_te,average='macro')\n",
    "\n",
    "        hist[i] = {\"learning_rate\" : rate, \"Drop\" : drop,\"loss_tr\" : loss_tr,\"dev_loss\" : dev_loss, \"F1\" : f1}\n",
    "        print(i)\n",
    "        i += 1"
   ]
  },
  {
   "cell_type": "code",
   "execution_count": 296,
   "metadata": {},
   "outputs": [],
   "source": [
    "bars = [[x[\"Drop\"], x[\"learning_rate\"], x[\"F1\"]] for x in list(hist.values())]\n",
    "bars = sorted(bars, key=lambda x: x[2])[::-1]\n",
    "best = bars[0]"
   ]
  },
  {
   "cell_type": "code",
   "execution_count": 297,
   "metadata": {},
   "outputs": [
    {
     "name": "stdout",
     "output_type": "stream",
     "text": [
      "epoch: 0 | traininf loss: 0.6192117322170784 | Validation loss: 0.6269843241227214\n",
      "epoch: 1 | traininf loss: 0.4901659236754561 | Validation loss: 0.4757208955287531\n",
      "epoch: 2 | traininf loss: 0.4335408417383433 | Validation loss: 0.38618641520732333\n",
      "epoch: 3 | traininf loss: 0.4065101249576015 | Validation loss: 0.3644450222054185\n",
      "epoch: 4 | traininf loss: 0.3790827273971678 | Validation loss: 0.31275493253016234\n",
      "epoch: 5 | traininf loss: 0.368265514922869 | Validation loss: 0.29491831334460505\n",
      "epoch: 6 | traininf loss: 0.3613127867551521 | Validation loss: 0.2942088704662931\n"
     ]
    }
   ],
   "source": [
    "W = network_weights(vocab_size=len(vocab), embedding_dim=300, hidden_dim=[], num_classes=3)\n",
    "\n",
    "W[0] = w_glove\n",
    "W, loss_tr, dev_loss = SGD(X_tr, Y_tr - 1,\n",
    "                            W,\n",
    "                            X_dev=X_dev, \n",
    "                            Y_dev=Y_dev - 1,\n",
    "                            lr=best[1], \n",
    "                            dropout=best[0],\n",
    "                            freeze_emb=True,\n",
    "                            tolerance=0.001,\n",
    "                            epochs=100)"
   ]
  },
  {
   "cell_type": "code",
   "execution_count": 298,
   "metadata": {
    "ExecuteTime": {
     "end_time": "2020-04-02T15:12:00.815184Z",
     "start_time": "2020-04-02T15:12:00.812563Z"
    }
   },
   "outputs": [
    {
     "name": "stdout",
     "output_type": "stream",
     "text": [
      "[[252.  19.  29.]\n",
      " [ 15. 270.  15.]\n",
      " [ 24.   3. 273.]]\n",
      "Accuracy: 0.8833333333333333\n",
      "Precision: 0.8839452179534071\n",
      "Recall: 0.8833333333333333\n",
      "F1-Score: 0.8832937022617727\n"
     ]
    }
   ],
   "source": [
    "preds_te = [np.argmax(forward_pass(x, W, dropout_rate=0.0)['y']) for x,y in zip(X_test,Y_test)]\n",
    "print(conf(preds_te,Y_test - 1))\n",
    "print('Accuracy:', accuracy_score(Y_test - 1,preds_te))\n",
    "print('Precision:', precision_score(Y_test - 1,preds_te,average='macro'))\n",
    "print('Recall:', recall_score(Y_test - 1,preds_te,average='macro'))\n",
    "print('F1-Score:', f1_score(Y_test - 1,preds_te,average='macro'))"
   ]
  },
  {
   "cell_type": "code",
   "execution_count": 299,
   "metadata": {},
   "outputs": [
    {
     "data": {
      "image/png": "[encoded data removed]",
      "text/plain": [
       "<Figure size 432x288 with 1 Axes>"
      ]
     },
     "metadata": {
      "needs_background": "light"
     },
     "output_type": "display_data"
    }
   ],
   "source": [
    "plt.plot(loss_tr, label=\"Training Loss\")\n",
    "plt.plot(dev_loss,label=\"Validation Loss\")\n",
    "plt.legend()\n",
    "plt.title(\"Traing and Validation Loss Over Time\")\n",
    "plt.ylabel(\"Loss\")\n",
    "plt.xlabel(\"Epochs\")\n",
    "plt.show()"
   ]
  },
  {
   "cell_type": "markdown",
   "metadata": {},
   "source": [
    "This figure shows that the model is underfitting as the validation loss is lower than the training loss."
   ]
  },
  {
   "cell_type": "markdown",
   "metadata": {},
   "source": [
    "### Discuss how did you choose model hyperparameters ? "
   ]
  },
  {
   "cell_type": "markdown",
   "metadata": {},
   "source": [
    "For this model I only tested the learning rate and the dropout rate. This is due to the fact that the embedding size is fixed to 300. Furthermorem, due to time constraints, I only tested two values for each hyperparameter.\n",
    "\n",
    "I then used a grid search to search all the possible combinations of values to find the set that produced the best f1 score."
   ]
  },
  {
   "cell_type": "markdown",
   "metadata": {},
   "source": [
    "# Extend to support deeper architectures (Bonus)\n",
    "\n",
    "Extend the network to support back-propagation for more hidden layers. You need to modify the `backward_pass` function above to compute gradients and update the weights between intermediate hidden layers. Finally, train and evaluate a network with a deeper architecture. "
   ]
  },
  {
   "cell_type": "code",
   "execution_count": 300,
   "metadata": {},
   "outputs": [
    {
     "name": "stdout",
     "output_type": "stream",
     "text": [
      "0\n",
      "1\n"
     ]
    }
   ],
   "source": [
    "learning_rate = [0.001]\n",
    "dropout = [0.1]\n",
    "dims = [[150],[5]]\n",
    "\n",
    "# Save best params in a hash\n",
    "hist = {} \n",
    "i = 0\n",
    "# for each hyperparam evaluate the model\n",
    "for rate in learning_rate :\n",
    "    for drop in dropout :\n",
    "        for d in dims:\n",
    "            W = network_weights(vocab_size=len(vocab), embedding_dim=300, hidden_dim=d, num_classes=3)\n",
    "            W[0] = w_glove\n",
    "            W, loss_tr, dev_loss = SGD(X_tr, Y_tr - 1,\n",
    "                                W,\n",
    "                                X_dev=X_dev, \n",
    "                                Y_dev=Y_dev - 1,\n",
    "                                lr=rate, \n",
    "                                dropout=drop,\n",
    "                                freeze_emb=True,\n",
    "                                tolerance=0.0001,\n",
    "                                epochs=100,\n",
    "                                print_progress=False)\n",
    "\n",
    "            # Evaluate         \n",
    "            preds_te = [np.argmax(forward_pass(x, W, dropout_rate=0.0)['y']) for x in X_test]\n",
    "            f1 = f1_score(Y_test - 1,preds_te,average='macro')\n",
    "\n",
    "            hist[i] = {\"Hidden\" : d, \"learning_rate\" : rate, \"Drop\" : drop,\"loss_tr\" : loss_tr,\"dev_loss\" : dev_loss, \"F1\" : f1}\n",
    "            print(i)\n",
    "            i += 1"
   ]
  },
  {
   "cell_type": "code",
   "execution_count": 301,
   "metadata": {},
   "outputs": [
    {
     "name": "stdout",
     "output_type": "stream",
     "text": [
      "[0.1, 0.001, 0.9007149497252631, [5]]\n",
      "[0.9007149497252631 0.8986397453432379]\n"
     ]
    }
   ],
   "source": [
    "bars = [[x[\"Drop\"], x[\"learning_rate\"], x[\"F1\"],x[\"Hidden\"]] for x in list(hist.values())]\n",
    "bars = sorted(bars, key=lambda x: x[2])[::-1]\n",
    "best = bars[0]\n",
    "print(best)\n",
    "print(np.array(bars)[:,2])"
   ]
  },
  {
   "cell_type": "code",
   "execution_count": null,
   "metadata": {},
   "outputs": [],
   "source": []
  },
  {
   "cell_type": "code",
   "execution_count": 302,
   "metadata": {
    "ExecuteTime": {
     "end_time": "2020-04-02T14:58:51.764619Z",
     "start_time": "2020-04-02T14:58:47.483690Z"
    },
    "scrolled": true
   },
   "outputs": [
    {
     "name": "stdout",
     "output_type": "stream",
     "text": [
      "9184\n",
      "epoch: 0 | traininf loss: 1.0989870650570455 | Validation loss: 1.099024261888927\n",
      "epoch: 1 | traininf loss: 1.098449419481501 | Validation loss: 1.0984795861344807\n",
      "epoch: 2 | traininf loss: 1.0979237521991425 | Validation loss: 1.0979284180956645\n",
      "epoch: 3 | traininf loss: 1.097093288085501 | Validation loss: 1.097071943234441\n",
      "epoch: 4 | traininf loss: 1.0956705118257246 | Validation loss: 1.095654678927923\n",
      "epoch: 5 | traininf loss: 1.0931814549706433 | Validation loss: 1.0931984267021293\n",
      "epoch: 6 | traininf loss: 1.088970597647019 | Validation loss: 1.0891623487495197\n",
      "epoch: 7 | traininf loss: 1.0823311919236038 | Validation loss: 1.0824817473093618\n",
      "epoch: 8 | traininf loss: 1.0712401850584965 | Validation loss: 1.071608134845395\n",
      "epoch: 9 | traininf loss: 1.0544599801732921 | Validation loss: 1.0548422782376472\n",
      "epoch: 10 | traininf loss: 1.0315515717537576 | Validation loss: 1.031899692078932\n",
      "epoch: 11 | traininf loss: 1.0023891752076115 | Validation loss: 1.0018804486653372\n",
      "epoch: 12 | traininf loss: 0.9658925578438804 | Validation loss: 0.9638203861223845\n",
      "epoch: 13 | traininf loss: 0.9196504771833475 | Validation loss: 0.9161028966092624\n",
      "epoch: 14 | traininf loss: 0.8660813856873921 | Validation loss: 0.8611217091409257\n",
      "epoch: 15 | traininf loss: 0.8106970689268382 | Validation loss: 0.80577958049421\n",
      "epoch: 16 | traininf loss: 0.7665856930189634 | Validation loss: 0.7575583123263753\n",
      "epoch: 17 | traininf loss: 0.7335094250643451 | Validation loss: 0.7249363702695988\n",
      "epoch: 18 | traininf loss: 0.7069304412431205 | Validation loss: 0.6969880676757739\n",
      "epoch: 19 | traininf loss: 0.6841764192291729 | Validation loss: 0.6723521470703064\n",
      "epoch: 20 | traininf loss: 0.6671471379108643 | Validation loss: 0.6438633173832867\n",
      "epoch: 21 | traininf loss: 0.6532929781633611 | Validation loss: 0.6221445189861929\n",
      "epoch: 22 | traininf loss: 0.6382539674870725 | Validation loss: 0.6150797392823406\n",
      "epoch: 23 | traininf loss: 0.6287616215335974 | Validation loss: 0.6020478287624121\n",
      "epoch: 24 | traininf loss: 0.6181403221974658 | Validation loss: 0.5885357646212636\n",
      "epoch: 25 | traininf loss: 0.6123038390899349 | Validation loss: 0.5787994701540143\n",
      "epoch: 26 | traininf loss: 0.6009686108924454 | Validation loss: 0.5568674687503594\n",
      "epoch: 27 | traininf loss: 0.5907782332092739 | Validation loss: 0.5600710128065207\n",
      "epoch: 28 | traininf loss: 0.5797573604432306 | Validation loss: 0.5560891213288253\n",
      "epoch: 29 | traininf loss: 0.5712753212236633 | Validation loss: 0.5312575576377925\n",
      "epoch: 30 | traininf loss: 0.5590067265013963 | Validation loss: 0.5216736299134382\n",
      "epoch: 31 | traininf loss: 0.5420083363937458 | Validation loss: 0.5181182113250462\n",
      "epoch: 32 | traininf loss: 0.5335758739908425 | Validation loss: 0.509719477184293\n",
      "epoch: 33 | traininf loss: 0.5218096680979852 | Validation loss: 0.4878428023320695\n",
      "epoch: 34 | traininf loss: 0.5041022560621262 | Validation loss: 0.46913463127488425\n",
      "epoch: 35 | traininf loss: 0.48857907186119615 | Validation loss: 0.451683055764534\n",
      "epoch: 36 | traininf loss: 0.4808508454450297 | Validation loss: 0.4525593674420104\n",
      "epoch: 37 | traininf loss: 0.4665854725967937 | Validation loss: 0.44870946325057276\n",
      "epoch: 38 | traininf loss: 0.45395516851918916 | Validation loss: 0.41962863567332875\n",
      "epoch: 39 | traininf loss: 0.4436190406734625 | Validation loss: 0.4091418864714606\n",
      "epoch: 40 | traininf loss: 0.4363659980886179 | Validation loss: 0.39657238224855973\n",
      "epoch: 41 | traininf loss: 0.4263840665997702 | Validation loss: 0.38669183979682403\n",
      "epoch: 42 | traininf loss: 0.41744022863461067 | Validation loss: 0.38249577451251254\n",
      "epoch: 43 | traininf loss: 0.40799972784547567 | Validation loss: 0.37699179655122333\n",
      "epoch: 44 | traininf loss: 0.40547864021308777 | Validation loss: 0.38327175989888246\n",
      "epoch: 45 | traininf loss: 0.3982586451142555 | Validation loss: 0.3679168163600393\n",
      "epoch: 46 | traininf loss: 0.3889176809166183 | Validation loss: 0.3526850477508576\n",
      "epoch: 47 | traininf loss: 0.38396125678102366 | Validation loss: 0.3449111997291305\n",
      "epoch: 48 | traininf loss: 0.38145718819565116 | Validation loss: 0.3498550693781863\n",
      "epoch: 49 | traininf loss: 0.37469212785889056 | Validation loss: 0.3285556196413539\n",
      "epoch: 50 | traininf loss: 0.3695364179479153 | Validation loss: 0.3291432099046534\n",
      "epoch: 51 | traininf loss: 0.37093372993709467 | Validation loss: 0.3275317632180667\n",
      "epoch: 52 | traininf loss: 0.36657020764504333 | Validation loss: 0.33147627856511985\n",
      "epoch: 53 | traininf loss: 0.35940335296732734 | Validation loss: 0.31607553180637854\n",
      "epoch: 54 | traininf loss: 0.35609731317691473 | Validation loss: 0.30745219965701004\n",
      "epoch: 55 | traininf loss: 0.35188511388419236 | Validation loss: 0.30367523440988514\n",
      "epoch: 56 | traininf loss: 0.35064358779580534 | Validation loss: 0.30762093782125116\n",
      "epoch: 57 | traininf loss: 0.3510460912681415 | Validation loss: 0.30740253214607105\n",
      "epoch: 58 | traininf loss: 0.3423828942921827 | Validation loss: 0.30183846735153175\n",
      "epoch: 59 | traininf loss: 0.3378668881369396 | Validation loss: 0.2919853482887099\n",
      "epoch: 60 | traininf loss: 0.3334555470270448 | Validation loss: 0.28936379252648614\n",
      "epoch: 61 | traininf loss: 0.33098815694776623 | Validation loss: 0.29662861768535725\n",
      "epoch: 62 | traininf loss: 0.3265252160550508 | Validation loss: 0.26703513452073024\n",
      "epoch: 63 | traininf loss: 0.32384705256168184 | Validation loss: 0.27773506098314793\n",
      "epoch: 64 | traininf loss: 0.32239474386390027 | Validation loss: 0.2815170526863262\n",
      "epoch: 65 | traininf loss: 0.3170309474385599 | Validation loss: 0.26337780204694583\n",
      "epoch: 66 | traininf loss: 0.314241332808064 | Validation loss: 0.24994092291239411\n",
      "epoch: 67 | traininf loss: 0.3073984444767758 | Validation loss: 0.25340676577621174\n",
      "epoch: 68 | traininf loss: 0.30664283241763557 | Validation loss: 0.2534850096374802\n"
     ]
    }
   ],
   "source": [
    "W = network_weights(vocab_size=len(vocab), embedding_dim=300, hidden_dim=best[3], num_classes=3)\n",
    "print(len(vocab))\n",
    "W[0] = w_glove\n",
    "W, loss_tr, dev_loss = SGD(X_tr, Y_tr - 1,\n",
    "                            W,\n",
    "                            X_dev=X_dev, \n",
    "                            Y_dev=Y_dev - 1,\n",
    "                            lr=best[1], \n",
    "                            dropout=best[0],\n",
    "                            freeze_emb=True,\n",
    "                            tolerance=0.0001,\n",
    "                            epochs=100)"
   ]
  },
  {
   "cell_type": "code",
   "execution_count": 303,
   "metadata": {},
   "outputs": [
    {
     "data": {
      "image/png": "[encoded data removed]",
      "text/plain": [
       "<Figure size 432x288 with 1 Axes>"
      ]
     },
     "metadata": {
      "needs_background": "light"
     },
     "output_type": "display_data"
    }
   ],
   "source": [
    "plt.plot(loss_tr, label=\"Training Loss\")\n",
    "plt.plot(dev_loss,label=\"Validation Loss\")\n",
    "plt.legend()\n",
    "plt.title(\"Traing and Validation Loss Over Time\")\n",
    "plt.ylabel(\"Loss\")\n",
    "plt.xlabel(\"Epochs\")\n",
    "plt.show()"
   ]
  },
  {
   "cell_type": "markdown",
   "metadata": {},
   "source": [
    "This figure shows that the model is underfitting as the validation loss is lower than the training loss."
   ]
  },
  {
   "cell_type": "code",
   "execution_count": 304,
   "metadata": {
    "ExecuteTime": {
     "end_time": "2020-04-02T15:11:51.994986Z",
     "start_time": "2020-04-02T15:11:51.992563Z"
    }
   },
   "outputs": [
    {
     "name": "stdout",
     "output_type": "stream",
     "text": [
      "[[256.  20.  24.]\n",
      " [ 21. 278.   1.]\n",
      " [ 34.   1. 265.]]\n",
      "Accuracy: 0.8877777777777778\n",
      "Precision: 0.8889033717126101\n",
      "Recall: 0.8877777777777777\n",
      "F1-Score: 0.8881631047754778\n"
     ]
    }
   ],
   "source": [
    "preds_te = [np.argmax(forward_pass(x, W, dropout_rate = 0.0)['y']) for x,y in zip(X_test,Y_test)]\n",
    "print(conf(preds_te,Y_test - 1))\n",
    "print('Accuracy:', accuracy_score(Y_test - 1,preds_te))\n",
    "print('Precision:', precision_score(Y_test - 1,preds_te,average='macro'))\n",
    "print('Recall:', recall_score(Y_test - 1,preds_te,average='macro'))\n",
    "print('F1-Score:', f1_score(Y_test - 1,preds_te,average='macro'))"
   ]
  },
  {
   "cell_type": "markdown",
   "metadata": {},
   "source": [
    "### Discuss how did you choose model hyperparameters ? "
   ]
  },
  {
   "cell_type": "markdown",
   "metadata": {},
   "source": [
    "For this model I only tested the size of the hidden layer. This is due to due to time constraints and I only tested two values for the hyperparameter and they were chosen at random.\n",
    "\n",
    "I then used a grid search to search all the possible combinations of values to find the set that produced the best f1 score. "
   ]
  },
  {
   "cell_type": "code",
   "execution_count": 305,
   "metadata": {},
   "outputs": [
    {
     "name": "stdout",
     "output_type": "stream",
     "text": [
      "Total Time = 0:13:13.832448\n"
     ]
    }
   ],
   "source": [
    "current_time = datetime.now() - now\n",
    "print(\"Total Time =\", current_time)"
   ]
  },
  {
   "cell_type": "markdown",
   "metadata": {},
   "source": [
    "## Full Results\n",
    "\n",
    "Add your final results here: to 4.s.f.\n",
    "\n",
    "| Model | Precision  | Recall  | F1-Score  | Accuracy\n",
    "|:-:|:-:|:-:|:-:|:-:|\n",
    "| Average Embedding  |  0.8618 |  0.86|  0.8598 | 0.86  |\n",
    "| Average Embedding (Pre-trained)  | 0.8839 | 0.8833  | 0.8833  | 0.8833 |\n",
    "| Average Embedding (Pre-trained) + X hidden layers (BONUS)   |  0.8889 | 0.8878| 0.8882  |  0.8877 |\n"
   ]
  },
  {
   "cell_type": "markdown",
   "metadata": {},
   "source": [
    "## Conclusion\n",
    "\n",
    "As you can see the averge embedding performed the worst with an f-1 score of 0.8598. The use of a pre-trained embedding layer impoved the results of the model to 0.8833. However, this led to under fitting in the model. Lastly, the use of hidden layers had only minor effects on the model's performance but gave the best f-1 socre of 0.8882"
   ]
  }
 ],
 "metadata": {
  "kernelspec": {
   "display_name": "text",
   "language": "python",
   "name": "text"
  },
  "language_info": {
   "codemirror_mode": {
    "name": "ipython",
    "version": 3
   },
   "file_extension": ".py",
   "mimetype": "text/x-python",
   "name": "python",
   "nbconvert_exporter": "python",
   "pygments_lexer": "ipython3",
   "version": "3.7.7"
  }
 },
 "nbformat": 4,
 "nbformat_minor": 2
}
